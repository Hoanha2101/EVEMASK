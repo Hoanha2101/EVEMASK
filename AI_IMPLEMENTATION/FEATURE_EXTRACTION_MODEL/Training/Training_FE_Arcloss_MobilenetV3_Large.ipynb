{
 "cells": [
  {
   "cell_type": "code",
   "execution_count": 1,
   "id": "151fed57",
   "metadata": {
    "execution": {
     "iopub.execute_input": "2025-06-23T19:03:38.588067Z",
     "iopub.status.busy": "2025-06-23T19:03:38.587845Z",
     "iopub.status.idle": "2025-06-23T19:04:55.440437Z",
     "shell.execute_reply": "2025-06-23T19:04:55.439545Z"
    },
    "papermill": {
     "duration": 76.860464,
     "end_time": "2025-06-23T19:04:55.442108",
     "exception": false,
     "start_time": "2025-06-23T19:03:38.581644",
     "status": "completed"
    },
    "tags": []
   },
   "outputs": [
    {
     "name": "stdout",
     "output_type": "stream",
     "text": [
      "\u001b[2K   \u001b[90m━━━━━━━━━━━━━━━━━━━━━━━━━━━━━━━━━━━━━━━━\u001b[0m \u001b[32m125.9/125.9 kB\u001b[0m \u001b[31m3.2 MB/s\u001b[0m eta \u001b[36m0:00:00\u001b[0m\r\n",
      "\u001b[2K   \u001b[90m━━━━━━━━━━━━━━━━━━━━━━━━━━━━━━━━━━━━━━━━\u001b[0m \u001b[32m363.4/363.4 MB\u001b[0m \u001b[31m4.7 MB/s\u001b[0m eta \u001b[36m0:00:00\u001b[0m\r\n",
      "\u001b[2K   \u001b[90m━━━━━━━━━━━━━━━━━━━━━━━━━━━━━━━━━━━━━━━━\u001b[0m \u001b[32m664.8/664.8 MB\u001b[0m \u001b[31m2.6 MB/s\u001b[0m eta \u001b[36m0:00:00\u001b[0m\r\n",
      "\u001b[2K   \u001b[90m━━━━━━━━━━━━━━━━━━━━━━━━━━━━━━━━━━━━━━━━\u001b[0m \u001b[32m211.5/211.5 MB\u001b[0m \u001b[31m8.1 MB/s\u001b[0m eta \u001b[36m0:00:00\u001b[0m\r\n",
      "\u001b[2K   \u001b[90m━━━━━━━━━━━━━━━━━━━━━━━━━━━━━━━━━━━━━━━━\u001b[0m \u001b[32m56.3/56.3 MB\u001b[0m \u001b[31m31.4 MB/s\u001b[0m eta \u001b[36m0:00:00\u001b[0m\r\n",
      "\u001b[2K   \u001b[90m━━━━━━━━━━━━━━━━━━━━━━━━━━━━━━━━━━━━━━━━\u001b[0m \u001b[32m127.9/127.9 MB\u001b[0m \u001b[31m13.6 MB/s\u001b[0m eta \u001b[36m0:00:00\u001b[0m\r\n",
      "\u001b[2K   \u001b[90m━━━━━━━━━━━━━━━━━━━━━━━━━━━━━━━━━━━━━━━━\u001b[0m \u001b[32m207.5/207.5 MB\u001b[0m \u001b[31m8.3 MB/s\u001b[0m eta \u001b[36m0:00:00\u001b[0m\r\n",
      "\u001b[2K   \u001b[90m━━━━━━━━━━━━━━━━━━━━━━━━━━━━━━━━━━━━━━━━\u001b[0m \u001b[32m21.1/21.1 MB\u001b[0m \u001b[31m68.8 MB/s\u001b[0m eta \u001b[36m0:00:00\u001b[0m\r\n",
      "\u001b[?25h"
     ]
    }
   ],
   "source": [
    "!pip install pytorch-metric-learning -q"
   ]
  },
  {
   "cell_type": "markdown",
   "id": "f569a2d4",
   "metadata": {
    "papermill": {
     "duration": 0.019968,
     "end_time": "2025-06-23T19:04:55.483917",
     "exception": false,
     "start_time": "2025-06-23T19:04:55.463949",
     "status": "completed"
    },
    "tags": []
   },
   "source": [
    "# Library"
   ]
  },
  {
   "cell_type": "code",
   "execution_count": 2,
   "id": "d3ac809f",
   "metadata": {
    "execution": {
     "iopub.execute_input": "2025-06-23T19:04:55.523823Z",
     "iopub.status.busy": "2025-06-23T19:04:55.523287Z",
     "iopub.status.idle": "2025-06-23T19:05:06.697139Z",
     "shell.execute_reply": "2025-06-23T19:05:06.696336Z"
    },
    "papermill": {
     "duration": 11.195174,
     "end_time": "2025-06-23T19:05:06.698504",
     "exception": false,
     "start_time": "2025-06-23T19:04:55.503330",
     "status": "completed"
    },
    "tags": []
   },
   "outputs": [
    {
     "name": "stderr",
     "output_type": "stream",
     "text": [
      "/usr/local/lib/python3.11/dist-packages/albumentations/__init__.py:28: UserWarning: A new version of Albumentations is available: '2.0.8' (you have '2.0.5'). Upgrade using: pip install -U albumentations. To disable automatic update checks, set the environment variable NO_ALBUMENTATIONS_UPDATE to 1.\n",
      "  check_for_updates()\n"
     ]
    }
   ],
   "source": [
    "import os\n",
    "import torch\n",
    "import torch.nn as nn\n",
    "from torch.utils.data import DataLoader, Dataset\n",
    "import torchvision.transforms as transforms\n",
    "import cv2\n",
    "from PIL import Image\n",
    "import numpy as np\n",
    "import matplotlib.pyplot as plt\n",
    "from torch import optim\n",
    "from tqdm import tqdm\n",
    "from torchvision import models\n",
    "import random\n",
    "import albumentations as A\n",
    "from albumentations.pytorch import ToTensorV2\n",
    "from torch.cuda import amp\n",
    "from torch.optim import lr_scheduler\n",
    "import torch.nn.functional as F\n",
    "from pytorch_metric_learning import losses\n",
    "import math"
   ]
  },
  {
   "cell_type": "markdown",
   "id": "b8401e06",
   "metadata": {
    "papermill": {
     "duration": 0.01913,
     "end_time": "2025-06-23T19:05:06.738020",
     "exception": false,
     "start_time": "2025-06-23T19:05:06.718890",
     "status": "completed"
    },
    "tags": []
   },
   "source": [
    "# Device"
   ]
  },
  {
   "cell_type": "code",
   "execution_count": 3,
   "id": "16f20db4",
   "metadata": {
    "execution": {
     "iopub.execute_input": "2025-06-23T19:05:06.778393Z",
     "iopub.status.busy": "2025-06-23T19:05:06.777697Z",
     "iopub.status.idle": "2025-06-23T19:05:06.865195Z",
     "shell.execute_reply": "2025-06-23T19:05:06.864458Z"
    },
    "papermill": {
     "duration": 0.108775,
     "end_time": "2025-06-23T19:05:06.866332",
     "exception": false,
     "start_time": "2025-06-23T19:05:06.757557",
     "status": "completed"
    },
    "tags": []
   },
   "outputs": [
    {
     "name": "stdout",
     "output_type": "stream",
     "text": [
      "cuda\n"
     ]
    }
   ],
   "source": [
    "device = torch.device(\"cuda\" if torch.cuda.is_available() else \"cpu\")\n",
    "print(device)"
   ]
  },
  {
   "cell_type": "markdown",
   "id": "8a2333c7",
   "metadata": {
    "papermill": {
     "duration": 0.01928,
     "end_time": "2025-06-23T19:05:06.905447",
     "exception": false,
     "start_time": "2025-06-23T19:05:06.886167",
     "status": "completed"
    },
    "tags": []
   },
   "source": [
    "# Transform"
   ]
  },
  {
   "cell_type": "code",
   "execution_count": 4,
   "id": "a1571bad",
   "metadata": {
    "execution": {
     "iopub.execute_input": "2025-06-23T19:05:06.944797Z",
     "iopub.status.busy": "2025-06-23T19:05:06.944517Z",
     "iopub.status.idle": "2025-06-23T19:05:06.955130Z",
     "shell.execute_reply": "2025-06-23T19:05:06.954367Z"
    },
    "papermill": {
     "duration": 0.03163,
     "end_time": "2025-06-23T19:05:06.956225",
     "exception": false,
     "start_time": "2025-06-23T19:05:06.924595",
     "status": "completed"
    },
    "tags": []
   },
   "outputs": [
    {
     "name": "stderr",
     "output_type": "stream",
     "text": [
      "/tmp/ipykernel_19/515749218.py:6: UserWarning: Argument(s) 'max_holes, max_height, max_width, min_holes, min_height, min_width, fill_value' are not valid for transform CoarseDropout\n",
      "  A.CoarseDropout(\n"
     ]
    }
   ],
   "source": [
    "INPUT_SIZE = (224, 224)\n",
    "data_transform = A.Compose([A.Resize(INPUT_SIZE[0], INPUT_SIZE[1]),\n",
    "                        A.HorizontalFlip(p=0.5),\n",
    "                        A.VerticalFlip(p=0.5),\n",
    "                        A.Rotate(limit=45, p=1.0),\n",
    "                        A.CoarseDropout(\n",
    "                                    max_holes=8,                \n",
    "                                    max_height=16,              \n",
    "                                    max_width=16,               \n",
    "                                    min_holes=1,                \n",
    "                                    min_height=8,               \n",
    "                                    min_width=8,                \n",
    "                                    fill_value=0,               \n",
    "                                    p=0.5                        \n",
    "                                ),\n",
    "                        A.RandomBrightnessContrast(\n",
    "                                brightness_limit=(-0.1,0.1), \n",
    "                                contrast_limit=(-0.1, 0.1), \n",
    "                                p=0.5),\n",
    "                        A.Normalize(\n",
    "                                mean=[0.485, 0.456, 0.406], \n",
    "                                std=[0.229, 0.224, 0.225], \n",
    "                                max_pixel_value=255.0, \n",
    "                                p=1.0),\n",
    "                        ToTensorV2()], p=1.)"
   ]
  },
  {
   "cell_type": "markdown",
   "id": "76c09a98",
   "metadata": {
    "papermill": {
     "duration": 0.065751,
     "end_time": "2025-06-23T19:05:07.041399",
     "exception": false,
     "start_time": "2025-06-23T19:05:06.975648",
     "status": "completed"
    },
    "tags": []
   },
   "source": [
    "# DataLoader"
   ]
  },
  {
   "cell_type": "code",
   "execution_count": 5,
   "id": "23b6e04c",
   "metadata": {
    "execution": {
     "iopub.execute_input": "2025-06-23T19:05:07.081906Z",
     "iopub.status.busy": "2025-06-23T19:05:07.081637Z",
     "iopub.status.idle": "2025-06-23T19:05:07.088626Z",
     "shell.execute_reply": "2025-06-23T19:05:07.088079Z"
    },
    "papermill": {
     "duration": 0.028849,
     "end_time": "2025-06-23T19:05:07.089724",
     "exception": false,
     "start_time": "2025-06-23T19:05:07.060875",
     "status": "completed"
    },
    "tags": []
   },
   "outputs": [],
   "source": [
    "class DATA(Dataset):\n",
    "  def __init__(self, path, transform = None, phase = \"train\"):\n",
    "    self.path = path\n",
    "    self.phase = phase\n",
    "    self.transform = transform\n",
    "\n",
    "    folders = os.listdir(path)\n",
    "    LEN = 0\n",
    "    IMAGE = []\n",
    "    LABEL = []\n",
    "\n",
    "    NOTE_LABEL = {}\n",
    "    for i, value in enumerate(folders):\n",
    "      NOTE_LABEL[value] = i\n",
    "    print(NOTE_LABEL)\n",
    "\n",
    "    for image_folder in folders:\n",
    "      items_path = os.path.join(self.path, image_folder)\n",
    "      items_list = os.listdir(items_path)\n",
    "\n",
    "      LEN = LEN + len(items_list)\n",
    "      for image_name in items_list:\n",
    "        image_path = os.path.join(items_path, image_name)\n",
    "        image = cv2.imread(image_path)\n",
    "        if image is not None:\n",
    "            image = cv2.cvtColor(image, cv2.COLOR_BGR2RGB)\n",
    "            IMAGE.append(image)\n",
    "            LABEL.append(NOTE_LABEL[image_folder])\n",
    "\n",
    "    self.LEN = len(IMAGE)\n",
    "    self.IMAGE = IMAGE\n",
    "    self.LABEL = LABEL\n",
    "\n",
    "  def __len__(self):\n",
    "    return self.LEN\n",
    "\n",
    "  def __getitem__(self, idx):\n",
    "\n",
    "    anchor_img = self.IMAGE[idx]\n",
    "    anchor_label = self.LABEL[idx]\n",
    "    \n",
    "    if self.phase == \"train\":\n",
    "        \n",
    "        if self.transform:\n",
    "            anchor_img = self.transform(image=anchor_img)[\"image\"]\n",
    "            \n",
    "        return anchor_img, torch.tensor(anchor_label, dtype=torch.float32)\n",
    "    else:\n",
    "        if self.transform:\n",
    "            anchor_img = self.transform(image=anchor_img)[\"image\"]\n",
    "        return anchor_img, torch.tensor(anchor_label, dtype=int)"
   ]
  },
  {
   "cell_type": "code",
   "execution_count": 6,
   "id": "dd411e11",
   "metadata": {
    "execution": {
     "iopub.execute_input": "2025-06-23T19:05:07.129632Z",
     "iopub.status.busy": "2025-06-23T19:05:07.129384Z",
     "iopub.status.idle": "2025-06-23T19:05:07.136323Z",
     "shell.execute_reply": "2025-06-23T19:05:07.135648Z"
    },
    "papermill": {
     "duration": 0.028166,
     "end_time": "2025-06-23T19:05:07.137492",
     "exception": false,
     "start_time": "2025-06-23T19:05:07.109326",
     "status": "completed"
    },
    "tags": []
   },
   "outputs": [],
   "source": [
    "class DATA(Dataset):\n",
    "    def __init__(self, path, transform=None, phase=\"train\"):\n",
    "        self.path = path\n",
    "        self.phase = phase\n",
    "        self.transform = transform\n",
    "        \n",
    "        folders = os.listdir(path)\n",
    "        self.image_paths = []  # ❌ Chỉ lưu đường dẫn, không load ảnh\n",
    "        self.labels = []\n",
    "        \n",
    "        self.label_dict = {}\n",
    "        for i, value in enumerate(folders):\n",
    "            self.label_dict[value] = i\n",
    "        print(self.label_dict)\n",
    "        \n",
    "        for image_folder in folders:\n",
    "            items_path = os.path.join(self.path, image_folder)\n",
    "            items_list = os.listdir(items_path)\n",
    "            \n",
    "            for image_name in items_list:\n",
    "                image_path = os.path.join(items_path, image_name)\n",
    "                self.image_paths.append(image_path)  # ✅ Chỉ lưu path\n",
    "                self.labels.append(self.label_dict[image_folder])\n",
    "    \n",
    "    def __len__(self):\n",
    "        return len(self.image_paths)\n",
    "    \n",
    "    def __getitem__(self, idx):\n",
    "        # ✅ Load ảnh khi cần thiết\n",
    "        image_path = self.image_paths[idx]\n",
    "        image = cv2.imread(image_path)\n",
    "        if image is not None:\n",
    "            image = cv2.cvtColor(image, cv2.COLOR_BGR2RGB)\n",
    "        \n",
    "        label = self.labels[idx]\n",
    "        \n",
    "        if self.phase == \"train\":\n",
    "            if self.transform:\n",
    "                image = self.transform(image=image)[\"image\"]\n",
    "            return image, torch.tensor(label, dtype=torch.float32)\n",
    "        else:\n",
    "            if self.transform:\n",
    "                image = self.transform(image=image)[\"image\"]\n",
    "            return image, torch.tensor(label, dtype=int)"
   ]
  },
  {
   "cell_type": "code",
   "execution_count": 7,
   "id": "1171a17a",
   "metadata": {
    "execution": {
     "iopub.execute_input": "2025-06-23T19:05:07.177261Z",
     "iopub.status.busy": "2025-06-23T19:05:07.176667Z",
     "iopub.status.idle": "2025-06-23T19:05:30.347511Z",
     "shell.execute_reply": "2025-06-23T19:05:30.346884Z"
    },
    "papermill": {
     "duration": 23.191758,
     "end_time": "2025-06-23T19:05:30.348581",
     "exception": false,
     "start_time": "2025-06-23T19:05:07.156823",
     "status": "completed"
    },
    "tags": []
   },
   "outputs": [
    {
     "name": "stdout",
     "output_type": "stream",
     "text": [
      "{'bet365': 0, 'Hermes': 1, 'danone': 2, 'netflix': 3, 'allianz': 4, 'CNN': 5, 'Prudential': 6, 'prada': 7, 'HSBC_fix35': 8, 'Meiji': 9, 'Aljazeera': 10, 'Asics': 11, 'pointsbet': 12, 'Reuters': 13, 'metlife': 14, 'National_Geographic': 15, 'Shell': 16, 'cartier': 17, 'Sheraton': 18, 'J_J': 19, 'budweiser': 20, 'aegon': 21, 'TikTok': 22, 'Dropbox': 23, 'H_M': 24, 'Deutsche_Bank': 25, 'firefox': 26, 'Volkswagen': 27, 'Panasonic': 28, 'maybach': 29, 'samsung': 30, '3M': 31, 'nvidia': 32, 'Gucci': 33, 'Tripadvisor': 34, 'Snapchat': 35, 'Xiaomi': 36, 'nivea': 37, 'Booking': 38, 'Generali': 39, 'paypal': 40, 'Ritz_Carlton': 41, 'mentos': 42, 'ebay': 43, 'gillette': 44, 'oacle': 45, 'dove': 46, 'Airbnb': 47, 'toyota': 48, 'BK8': 49, 'facebook': 50, 'Suzuki': 51, 'domino_pizza': 52, 'alpenliebe': 53, 'Fanduel': 54, 'Dell': 55, 'pizza_hut': 56, 'Marriott': 57, 'rolex': 58, 'Lenovo': 59, 'golia': 60, 'Cloudflare': 61, 'Maserati': 62, '7up': 63, 'BBC': 64, 'dafabet': 65, 'tacobell': 66, 'Citroen': 67, 'Hollywoodbet': 68, 'mastercard': 69, 'Unibet': 70, 'Citi': 71, 'avon': 72, 'lamborghini': 73, 'milo': 74, 'espn': 75, 'jollibee': 76, 'Bosch': 77, 'sony': 78, 'Jeep': 79, 'Bloomberg': 80, 'Line': 81, 'volvo': 82, 'ibm': 83, 'bally': 84, 'loreal': 85, 'Uniqlo': 86, 'baskin_robbins': 87, 'Forbes': 88, 'Colgate': 89, 'betway': 90, 'popeyes': 91, 'Cadillac': 92, 'P_G': 93, 'Louis_Vuitton': 94, 'AFC': 95, 'JPMorgan_Chase': 96, 'axa': 97, 'Mercedes_Benz': 98, 'Tumblr': 99, 'Chevrolet': 100, 'cocacola': 101, 'betmgm': 102, 'acb': 103, 'subway': 104, 'tencent': 105, 'visa': 106, 'adobe': 107, 'VK': 108, 'Ferrari': 109, 'dunkin': 110, 'Razer': 111, 'heineken': 112, 'Zara': 113, 'WeChat_FIX': 114, 'Reddit': 115, 'Audi': 116, 'tissot': 117, 'mcdonald': 118, 'tagheuer': 119, 'costco': 120, 'draftkings': 121, 'snickers': 122, 'solite': 123, 'Expedia': 124, 'Discovery': 125, 'Acura': 126, 'Subaru': 127, 'American_Express': 128, 'Hilton': 129, 'Dior': 130, 'instagram': 131, 'Bugatti': 132, 'betrivers': 133, 'corona': 134}\n",
      "Load time: 23.1647 s\n"
     ]
    },
    {
     "data": {
      "text/plain": [
       "103302"
      ]
     },
     "execution_count": 7,
     "metadata": {},
     "output_type": "execute_result"
    }
   ],
   "source": [
    "import time\n",
    "start = time.time()\n",
    "train_path = \"/kaggle/input/data-augmented-model-2/augmented_data_model_2\"\n",
    "train_data =  DATA(train_path, data_transform, phase = \"train\")\n",
    "end = time.time()\n",
    "print(f\"Load time: {round(end - start, 4)} s\")\n",
    "len(train_data)"
   ]
  },
  {
   "cell_type": "markdown",
   "id": "2f73b4e4",
   "metadata": {
    "papermill": {
     "duration": 0.020323,
     "end_time": "2025-06-23T19:05:30.389626",
     "exception": false,
     "start_time": "2025-06-23T19:05:30.369303",
     "status": "completed"
    },
    "tags": []
   },
   "source": [
    "### Show check data"
   ]
  },
  {
   "cell_type": "code",
   "execution_count": 8,
   "id": "f88cb0c5",
   "metadata": {
    "execution": {
     "iopub.execute_input": "2025-06-23T19:05:30.430942Z",
     "iopub.status.busy": "2025-06-23T19:05:30.430368Z",
     "iopub.status.idle": "2025-06-23T19:05:30.729732Z",
     "shell.execute_reply": "2025-06-23T19:05:30.729023Z"
    },
    "papermill": {
     "duration": 0.321919,
     "end_time": "2025-06-23T19:05:30.731556",
     "exception": false,
     "start_time": "2025-06-23T19:05:30.409637",
     "status": "completed"
    },
    "tags": []
   },
   "outputs": [
    {
     "data": {
      "image/png": "[encoded data removed]",
      "text/plain": [
       "<Figure size 640x480 with 1 Axes>"
      ]
     },
     "metadata": {},
     "output_type": "display_data"
    }
   ],
   "source": [
    "anchor_img, label = train_data[100] # image at index = 100\n",
    "img_np = anchor_img.numpy()\n",
    "img_np = np.transpose(img_np, (1,2,0))\n",
    "\n",
    "plt.imshow(img_np)\n",
    "plt.show()"
   ]
  },
  {
   "cell_type": "code",
   "execution_count": 9,
   "id": "285f228b",
   "metadata": {
    "execution": {
     "iopub.execute_input": "2025-06-23T19:05:30.775930Z",
     "iopub.status.busy": "2025-06-23T19:05:30.775716Z",
     "iopub.status.idle": "2025-06-23T19:05:30.779768Z",
     "shell.execute_reply": "2025-06-23T19:05:30.779046Z"
    },
    "papermill": {
     "duration": 0.027237,
     "end_time": "2025-06-23T19:05:30.780859",
     "exception": false,
     "start_time": "2025-06-23T19:05:30.753622",
     "status": "completed"
    },
    "tags": []
   },
   "outputs": [],
   "source": [
    "batch_size =  32 # Batch = 32 là max khi train với colab và kaggle, nếu lớn hơn thì out of memory -- Vram có 16gb thôi\n",
    "train_loader = DataLoader(train_data,\n",
    "                          batch_size=batch_size,\n",
    "                          shuffle=True,\n",
    "                          num_workers = os.cpu_count()\n",
    "                          )"
   ]
  },
  {
   "cell_type": "markdown",
   "id": "e5678332",
   "metadata": {
    "papermill": {
     "duration": 0.021069,
     "end_time": "2025-06-23T19:05:30.823391",
     "exception": false,
     "start_time": "2025-06-23T19:05:30.802322",
     "status": "completed"
    },
    "tags": []
   },
   "source": [
    "# Loss"
   ]
  },
  {
   "cell_type": "code",
   "execution_count": 10,
   "id": "79fa9513",
   "metadata": {
    "execution": {
     "iopub.execute_input": "2025-06-23T19:05:30.866748Z",
     "iopub.status.busy": "2025-06-23T19:05:30.866115Z",
     "iopub.status.idle": "2025-06-23T19:05:30.869339Z",
     "shell.execute_reply": "2025-06-23T19:05:30.868881Z"
    },
    "papermill": {
     "duration": 0.026043,
     "end_time": "2025-06-23T19:05:30.870437",
     "exception": false,
     "start_time": "2025-06-23T19:05:30.844394",
     "status": "completed"
    },
    "tags": []
   },
   "outputs": [],
   "source": [
    "# class SupervisedContrastiveLoss(nn.Module):\n",
    "#     def __init__(self, temperature=0.2):\n",
    "#         super(SupervisedContrastiveLoss, self).__init__()\n",
    "#         self.temperature = temperature\n",
    "\n",
    "#     def forward(self, feature_vectors, labels):\n",
    "#         # Normalize feature vectors\n",
    "#         feature_vectors_normalized = F.normalize(feature_vectors, p=2, dim=1)\n",
    "#         # Compute logits\n",
    "#         logits = torch.div(\n",
    "#             torch.matmul(\n",
    "#                 feature_vectors_normalized, torch.transpose(feature_vectors_normalized, 0, 1)\n",
    "#             ),\n",
    "#             self.temperature,\n",
    "#         )\n",
    "#         return losses.NTXentLoss(temperature=0.07)(logits, torch.squeeze(labels))"
   ]
  },
  {
   "cell_type": "code",
   "execution_count": 11,
   "id": "001c4b95",
   "metadata": {
    "execution": {
     "iopub.execute_input": "2025-06-23T19:05:30.913841Z",
     "iopub.status.busy": "2025-06-23T19:05:30.913627Z",
     "iopub.status.idle": "2025-06-23T19:05:30.919955Z",
     "shell.execute_reply": "2025-06-23T19:05:30.919295Z"
    },
    "papermill": {
     "duration": 0.029229,
     "end_time": "2025-06-23T19:05:30.921053",
     "exception": false,
     "start_time": "2025-06-23T19:05:30.891824",
     "status": "completed"
    },
    "tags": []
   },
   "outputs": [],
   "source": [
    "class ArcMarginProduct(nn.Module):\n",
    "    def __init__(self, in_features, out_features, s=64.0, m=0.5):\n",
    "        super().__init__()\n",
    "        self.weight = nn.Parameter(torch.FloatTensor(out_features, in_features))\n",
    "        nn.init.xavier_uniform_(self.weight)\n",
    "        self.s = s\n",
    "        self.m = m\n",
    "        self.cos_m = math.cos(m)\n",
    "        self.sin_m = math.sin(m)\n",
    "        self.th = math.cos(math.pi - m)\n",
    "        self.mm = math.sin(math.pi - m) * m\n",
    "\n",
    "    def forward(self, input, label):\n",
    "        cosine = F.linear(F.normalize(input), F.normalize(self.weight))\n",
    "        sine = torch.sqrt(1.0 - torch.clamp(cosine ** 2, 0, 1))\n",
    "        phi = cosine * self.cos_m - sine * self.sin_m\n",
    "        phi = torch.where(cosine > self.th, phi, cosine - self.mm)\n",
    "\n",
    "        one_hot = torch.zeros_like(cosine)\n",
    "        one_hot.scatter_(1, label.view(-1, 1).long(), 1.0)\n",
    "        output = (one_hot * phi) + ((1.0 - one_hot) * cosine)\n",
    "        output *= self.s\n",
    "        return output"
   ]
  },
  {
   "cell_type": "code",
   "execution_count": 12,
   "id": "62a993af",
   "metadata": {
    "execution": {
     "iopub.execute_input": "2025-06-23T19:05:30.964050Z",
     "iopub.status.busy": "2025-06-23T19:05:30.963814Z",
     "iopub.status.idle": "2025-06-23T19:05:30.968875Z",
     "shell.execute_reply": "2025-06-23T19:05:30.968127Z"
    },
    "papermill": {
     "duration": 0.027801,
     "end_time": "2025-06-23T19:05:30.970077",
     "exception": false,
     "start_time": "2025-06-23T19:05:30.942276",
     "status": "completed"
    },
    "tags": []
   },
   "outputs": [],
   "source": [
    "class FocalLoss(nn.Module):\n",
    "    def __init__(self, gamma=2.0, alpha=None, reduction='mean'):\n",
    "        super().__init__()\n",
    "        self.gamma = gamma\n",
    "        self.alpha = alpha  # optional class weights\n",
    "        self.reduction = reduction\n",
    "\n",
    "    def forward(self, logits, targets):\n",
    "        targets = targets.long()\n",
    "        ce_loss = F.cross_entropy(logits, targets, reduction='none', weight=self.alpha)\n",
    "        pt = torch.exp(-ce_loss)  # pt = softmax(logits)[target]\n",
    "        focal_loss = ((1 - pt) ** self.gamma) * ce_loss\n",
    "\n",
    "        if self.reduction == 'mean':\n",
    "            return focal_loss.mean()\n",
    "        elif self.reduction == 'sum':\n",
    "            return focal_loss.sum()\n",
    "        return focal_loss\n"
   ]
  },
  {
   "cell_type": "markdown",
   "id": "541b4458",
   "metadata": {
    "papermill": {
     "duration": 0.022551,
     "end_time": "2025-06-23T19:05:31.013897",
     "exception": false,
     "start_time": "2025-06-23T19:05:30.991346",
     "status": "completed"
    },
    "tags": []
   },
   "source": [
    "# BackBone - emb_dim = 256"
   ]
  },
  {
   "cell_type": "markdown",
   "id": "f0be76d3",
   "metadata": {
    "papermill": {
     "duration": 0.020627,
     "end_time": "2025-06-23T19:05:31.055761",
     "exception": false,
     "start_time": "2025-06-23T19:05:31.035134",
     "status": "completed"
    },
    "tags": []
   },
   "source": [
    "### VGG16"
   ]
  },
  {
   "cell_type": "markdown",
   "id": "2984b9d5",
   "metadata": {
    "papermill": {
     "duration": 0.020699,
     "end_time": "2025-06-23T19:05:31.097768",
     "exception": false,
     "start_time": "2025-06-23T19:05:31.077069",
     "status": "completed"
    },
    "tags": []
   },
   "source": [
    "##### #Custom FC head"
   ]
  },
  {
   "cell_type": "code",
   "execution_count": 13,
   "id": "5d5b1fa8",
   "metadata": {
    "execution": {
     "iopub.execute_input": "2025-06-23T19:05:31.141045Z",
     "iopub.status.busy": "2025-06-23T19:05:31.140311Z",
     "iopub.status.idle": "2025-06-23T19:05:31.143912Z",
     "shell.execute_reply": "2025-06-23T19:05:31.143249Z"
    },
    "papermill": {
     "duration": 0.02654,
     "end_time": "2025-06-23T19:05:31.145030",
     "exception": false,
     "start_time": "2025-06-23T19:05:31.118490",
     "status": "completed"
    },
    "tags": []
   },
   "outputs": [],
   "source": [
    "\n",
    "# model_ = models.vgg16(pretrained=True)\n",
    "# class Network(nn.Module):\n",
    "#     def __init__(self, emb_dim=128):\n",
    "#         super(Network, self).__init__()\n",
    "#         self.conv = model_.features\n",
    "\n",
    "#         self.fc = nn.Sequential(\n",
    "#             nn.Linear(512*7*7, 512),\n",
    "#             nn.PReLU(),\n",
    "#             nn.Linear(512, emb_dim)\n",
    "#         )\n",
    "\n",
    "#     def forward(self, x):\n",
    "#         x = self.conv(x)\n",
    "#         x = x.view(x.size(0), -1)\n",
    "#         x = self.fc(x)\n",
    "#         return x"
   ]
  },
  {
   "cell_type": "markdown",
   "id": "0e51b6f3",
   "metadata": {
    "papermill": {
     "duration": 0.021026,
     "end_time": "2025-06-23T19:05:31.187202",
     "exception": false,
     "start_time": "2025-06-23T19:05:31.166176",
     "status": "completed"
    },
    "tags": []
   },
   "source": [
    "##### #Get Full Head"
   ]
  },
  {
   "cell_type": "code",
   "execution_count": 14,
   "id": "9c72ee92",
   "metadata": {
    "execution": {
     "iopub.execute_input": "2025-06-23T19:05:31.229904Z",
     "iopub.status.busy": "2025-06-23T19:05:31.229676Z",
     "iopub.status.idle": "2025-06-23T19:05:31.232953Z",
     "shell.execute_reply": "2025-06-23T19:05:31.232437Z"
    },
    "papermill": {
     "duration": 0.025877,
     "end_time": "2025-06-23T19:05:31.233947",
     "exception": false,
     "start_time": "2025-06-23T19:05:31.208070",
     "status": "completed"
    },
    "tags": []
   },
   "outputs": [],
   "source": [
    "# model_ = models.vgg16(pretrained=True)\n",
    "\n",
    "# class Network(nn.Module):\n",
    "#     def __init__(self, emb_dim=128):\n",
    "#         super(Network, self).__init__()\n",
    "#         self.conv = model_.features\n",
    "        \n",
    "#         # Full head của VGG16 gồm 3 Linear layers\n",
    "#         self.base_classifier = model_.classifier  # Gồm cả 1000 lớp output\n",
    "\n",
    "#         # Sau lớp 1000-d, thêm PReLU và chuyển về emb_dim\n",
    "#         self.tail = nn.Sequential(\n",
    "#             nn.PReLU(),\n",
    "#             nn.Linear(1000, emb_dim)\n",
    "#         )\n",
    "\n",
    "#     def forward(self, x):\n",
    "#         x = self.conv(x)\n",
    "#         x = x.view(x.size(0), -1)\n",
    "#         x = self.base_classifier(x)\n",
    "#         x = self.tail(x)\n",
    "#         return x"
   ]
  },
  {
   "cell_type": "markdown",
   "id": "ea3da88c",
   "metadata": {
    "papermill": {
     "duration": 0.020549,
     "end_time": "2025-06-23T19:05:31.275385",
     "exception": false,
     "start_time": "2025-06-23T19:05:31.254836",
     "status": "completed"
    },
    "tags": []
   },
   "source": [
    "### VGG19"
   ]
  },
  {
   "cell_type": "markdown",
   "id": "86e27703",
   "metadata": {
    "papermill": {
     "duration": 0.020648,
     "end_time": "2025-06-23T19:05:31.318018",
     "exception": false,
     "start_time": "2025-06-23T19:05:31.297370",
     "status": "completed"
    },
    "tags": []
   },
   "source": [
    "##### #Custom FC head"
   ]
  },
  {
   "cell_type": "code",
   "execution_count": 15,
   "id": "6db823ee",
   "metadata": {
    "execution": {
     "iopub.execute_input": "2025-06-23T19:05:31.360462Z",
     "iopub.status.busy": "2025-06-23T19:05:31.360224Z",
     "iopub.status.idle": "2025-06-23T19:05:31.363410Z",
     "shell.execute_reply": "2025-06-23T19:05:31.362899Z"
    },
    "papermill": {
     "duration": 0.025541,
     "end_time": "2025-06-23T19:05:31.364382",
     "exception": false,
     "start_time": "2025-06-23T19:05:31.338841",
     "status": "completed"
    },
    "tags": []
   },
   "outputs": [],
   "source": [
    "# model_ = models.vgg19(pretrained=True)\n",
    "# class Network(nn.Module):\n",
    "#     def __init__(self, emb_dim=128):\n",
    "#         super(Network, self).__init__()\n",
    "#         self.conv = model_.features\n",
    "\n",
    "#         self.fc = nn.Sequential(\n",
    "#             nn.Linear(512*7*7, 512),\n",
    "#             nn.PReLU(),\n",
    "#             nn.Linear(512, emb_dim)\n",
    "#         )\n",
    "\n",
    "#     def forward(self, x):\n",
    "#         x = self.conv(x)\n",
    "#         print(x.shape)\n",
    "#         x = x.view(x.size(0), -1)\n",
    "#         x = self.fc(x)\n",
    "#         return x"
   ]
  },
  {
   "cell_type": "markdown",
   "id": "a2326e66",
   "metadata": {
    "papermill": {
     "duration": 0.020446,
     "end_time": "2025-06-23T19:05:31.406218",
     "exception": false,
     "start_time": "2025-06-23T19:05:31.385772",
     "status": "completed"
    },
    "tags": []
   },
   "source": [
    "##### #Get Full Head"
   ]
  },
  {
   "cell_type": "code",
   "execution_count": 16,
   "id": "b84ba7a0",
   "metadata": {
    "execution": {
     "iopub.execute_input": "2025-06-23T19:05:31.448519Z",
     "iopub.status.busy": "2025-06-23T19:05:31.448237Z",
     "iopub.status.idle": "2025-06-23T19:05:31.451517Z",
     "shell.execute_reply": "2025-06-23T19:05:31.450968Z"
    },
    "papermill": {
     "duration": 0.025733,
     "end_time": "2025-06-23T19:05:31.452489",
     "exception": false,
     "start_time": "2025-06-23T19:05:31.426756",
     "status": "completed"
    },
    "tags": []
   },
   "outputs": [],
   "source": [
    "# model_ = models.vgg19(pretrained=True)\n",
    "\n",
    "# class Network(nn.Module):\n",
    "#     def __init__(self, emb_dim=128):\n",
    "#         super(Network, self).__init__()\n",
    "#         self.conv = model_.features\n",
    "        \n",
    "#         self.base_classifier = model_.classifier\n",
    "\n",
    "#         self.tail = nn.Sequential(\n",
    "#             nn.PReLU(),\n",
    "#             nn.Linear(1000, emb_dim)\n",
    "#         )\n",
    "\n",
    "#     def forward(self, x):\n",
    "#         x = self.conv(x)\n",
    "#         x = x.view(x.size(0), -1)\n",
    "#         x = self.base_classifier(x)\n",
    "#         x = self.tail(x)\n",
    "#         return x"
   ]
  },
  {
   "cell_type": "markdown",
   "id": "f62cc2c9",
   "metadata": {
    "papermill": {
     "duration": 0.020454,
     "end_time": "2025-06-23T19:05:31.493725",
     "exception": false,
     "start_time": "2025-06-23T19:05:31.473271",
     "status": "completed"
    },
    "tags": []
   },
   "source": [
    "### ResNet18"
   ]
  },
  {
   "cell_type": "code",
   "execution_count": 17,
   "id": "bc1f0c5e",
   "metadata": {
    "execution": {
     "iopub.execute_input": "2025-06-23T19:05:31.536187Z",
     "iopub.status.busy": "2025-06-23T19:05:31.535932Z",
     "iopub.status.idle": "2025-06-23T19:05:31.539487Z",
     "shell.execute_reply": "2025-06-23T19:05:31.538962Z"
    },
    "papermill": {
     "duration": 0.026425,
     "end_time": "2025-06-23T19:05:31.540697",
     "exception": false,
     "start_time": "2025-06-23T19:05:31.514272",
     "status": "completed"
    },
    "tags": []
   },
   "outputs": [],
   "source": [
    "# import torch\n",
    "# import torch.nn as nn\n",
    "# from torchvision import models\n",
    "\n",
    "# class Network(nn.Module):\n",
    "#     def __init__(self, emb_dim=128):\n",
    "#         super(Network, self).__init__()\n",
    "\n",
    "#         base_model = models.resnet18(pretrained=True)  \n",
    "#         self.backbone = nn.Sequential(*list(base_model.children())[:-1])  \n",
    "#         self.fc = nn.Sequential(\n",
    "#             nn.Linear(512, 256),\n",
    "#             nn.PReLU(),\n",
    "#             nn.Linear(256, emb_dim)\n",
    "#         )\n",
    "\n",
    "#     def forward(self, x):\n",
    "#         x = self.backbone(x)           # [B, 512, 1, 1]\n",
    "#         x = torch.flatten(x, 1)        # [B, 512]\n",
    "#         x = self.fc(x)                 # [B, emb_dim]\n",
    "#         return x\n"
   ]
  },
  {
   "cell_type": "markdown",
   "id": "ed43e0d1",
   "metadata": {
    "papermill": {
     "duration": 0.020714,
     "end_time": "2025-06-23T19:05:31.582648",
     "exception": false,
     "start_time": "2025-06-23T19:05:31.561934",
     "status": "completed"
    },
    "tags": []
   },
   "source": [
    "### ResNet50"
   ]
  },
  {
   "cell_type": "code",
   "execution_count": 18,
   "id": "728e2063",
   "metadata": {
    "execution": {
     "iopub.execute_input": "2025-06-23T19:05:31.625829Z",
     "iopub.status.busy": "2025-06-23T19:05:31.625587Z",
     "iopub.status.idle": "2025-06-23T19:05:31.628784Z",
     "shell.execute_reply": "2025-06-23T19:05:31.628286Z"
    },
    "papermill": {
     "duration": 0.025962,
     "end_time": "2025-06-23T19:05:31.629772",
     "exception": false,
     "start_time": "2025-06-23T19:05:31.603810",
     "status": "completed"
    },
    "tags": []
   },
   "outputs": [],
   "source": [
    "# import torch\n",
    "# import torch.nn as nn\n",
    "# from torchvision import models\n",
    "\n",
    "# class Network(nn.Module):\n",
    "#     def __init__(self, emb_dim=128):\n",
    "#         super(Network, self).__init__()\n",
    "\n",
    "#         base_model = models.resnet50(pretrained=True)\n",
    "\n",
    "#         # Bỏ layer cuối cùng (fc)\n",
    "#         self.backbone = nn.Sequential(*list(base_model.children())[:-1])  # Output: [B, 2048, 1, 1]\n",
    "\n",
    "#         # FC Head\n",
    "#         self.fc = nn.Sequential(\n",
    "#             nn.Linear(2048, 512),\n",
    "#             nn.PReLU(),\n",
    "#             nn.Linear(512, emb_dim)\n",
    "#         )\n",
    "\n",
    "#     def forward(self, x):\n",
    "#         x = self.backbone(x)           # [B, 2048, 1, 1]\n",
    "#         x = torch.flatten(x, 1)        # [B, 2048]\n",
    "#         x = self.fc(x)                 # [B, emb_dim]\n",
    "#         return x"
   ]
  },
  {
   "cell_type": "markdown",
   "id": "2008aeb6",
   "metadata": {
    "papermill": {
     "duration": 0.020531,
     "end_time": "2025-06-23T19:05:31.671382",
     "exception": false,
     "start_time": "2025-06-23T19:05:31.650851",
     "status": "completed"
    },
    "tags": []
   },
   "source": [
    "### MobileNetV2\n"
   ]
  },
  {
   "cell_type": "code",
   "execution_count": 19,
   "id": "11584e51",
   "metadata": {
    "execution": {
     "iopub.execute_input": "2025-06-23T19:05:31.714624Z",
     "iopub.status.busy": "2025-06-23T19:05:31.714352Z",
     "iopub.status.idle": "2025-06-23T19:05:31.717692Z",
     "shell.execute_reply": "2025-06-23T19:05:31.717154Z"
    },
    "papermill": {
     "duration": 0.026296,
     "end_time": "2025-06-23T19:05:31.718711",
     "exception": false,
     "start_time": "2025-06-23T19:05:31.692415",
     "status": "completed"
    },
    "tags": []
   },
   "outputs": [],
   "source": [
    "# import torch\n",
    "# import torch.nn as nn\n",
    "# from torchvision import models\n",
    "\n",
    "# class Network(nn.Module):\n",
    "#     def __init__(self, emb_dim=128):\n",
    "#         super(Network, self).__init__()\n",
    "\n",
    "#         base_model = models.mobilenet_v2(pretrained=True)\n",
    "\n",
    "#         # Bỏ classifier, giữ lại feature extractor\n",
    "#         self.backbone = base_model.features  # Output: [B, 1280, 7, 7]\n",
    "\n",
    "#         # Global Average Pooling + FC head\n",
    "#         self.pool = nn.AdaptiveAvgPool2d((1, 1))  # Output: [B, 1280, 1, 1]\n",
    "\n",
    "#         self.fc = nn.Sequential(\n",
    "#             nn.Linear(1280, 512),\n",
    "#             nn.PReLU(),\n",
    "#             nn.Linear(512, emb_dim)\n",
    "#         )\n",
    "\n",
    "#     def forward(self, x):\n",
    "#         x = self.backbone(x)           # [B, 1280, 7, 7]\n",
    "#         x = self.pool(x)               # [B, 1280, 1, 1]\n",
    "#         x = torch.flatten(x, 1)        # [B, 1280]\n",
    "#         x = self.fc(x)                 # [B, emb_dim]\n",
    "#         return x\n"
   ]
  },
  {
   "cell_type": "markdown",
   "id": "bed8a907",
   "metadata": {
    "papermill": {
     "duration": 0.020608,
     "end_time": "2025-06-23T19:05:31.760807",
     "exception": false,
     "start_time": "2025-06-23T19:05:31.740199",
     "status": "completed"
    },
    "tags": []
   },
   "source": [
    "# MobileNetv3 - Small"
   ]
  },
  {
   "cell_type": "code",
   "execution_count": 20,
   "id": "7af7fb96",
   "metadata": {
    "execution": {
     "iopub.execute_input": "2025-06-23T19:05:31.803069Z",
     "iopub.status.busy": "2025-06-23T19:05:31.802851Z",
     "iopub.status.idle": "2025-06-23T19:05:31.806155Z",
     "shell.execute_reply": "2025-06-23T19:05:31.805658Z"
    },
    "papermill": {
     "duration": 0.025738,
     "end_time": "2025-06-23T19:05:31.807083",
     "exception": false,
     "start_time": "2025-06-23T19:05:31.781345",
     "status": "completed"
    },
    "tags": []
   },
   "outputs": [],
   "source": [
    "# import torch\n",
    "# import torch.nn as nn\n",
    "# from torchvision import models\n",
    "\n",
    "# class Network(nn.Module):\n",
    "#     def __init__(self, emb_dim=128):\n",
    "#         super(Network, self).__init__()\n",
    "\n",
    "#         base_model = models.mobilenet_v3_small(pretrained=True)\n",
    "\n",
    "#         # Dùng phần features của model (output: [B, 576, 7, 7])\n",
    "#         self.backbone = base_model.features\n",
    "\n",
    "#         # Global Average Pooling\n",
    "#         self.pool = nn.AdaptiveAvgPool2d((1, 1))  # Output: [B, 576, 1, 1]\n",
    "\n",
    "#         # FC Head\n",
    "#         self.fc = nn.Sequential(\n",
    "#             nn.Linear(576, 256),\n",
    "#             nn.PReLU(),\n",
    "#             nn.Linear(256, emb_dim)\n",
    "#         )\n",
    "\n",
    "#     def forward(self, x):\n",
    "#         x = self.backbone(x)   # [B, 576, 7, 7]\n",
    "#         x = self.pool(x)       # [B, 576, 1, 1]\n",
    "#         x = torch.flatten(x, 1)  # [B, 576]\n",
    "#         x = self.fc(x)         # [B, emb_dim]\n",
    "#         return x\n"
   ]
  },
  {
   "cell_type": "markdown",
   "id": "7e983577",
   "metadata": {
    "papermill": {
     "duration": 0.02094,
     "end_time": "2025-06-23T19:05:31.848953",
     "exception": false,
     "start_time": "2025-06-23T19:05:31.828013",
     "status": "completed"
    },
    "tags": []
   },
   "source": [
    "# MobileNetv3 - Large"
   ]
  },
  {
   "cell_type": "code",
   "execution_count": 21,
   "id": "1ea7f987",
   "metadata": {
    "execution": {
     "iopub.execute_input": "2025-06-23T19:05:31.891967Z",
     "iopub.status.busy": "2025-06-23T19:05:31.891766Z",
     "iopub.status.idle": "2025-06-23T19:05:31.896831Z",
     "shell.execute_reply": "2025-06-23T19:05:31.896261Z"
    },
    "papermill": {
     "duration": 0.027953,
     "end_time": "2025-06-23T19:05:31.897883",
     "exception": false,
     "start_time": "2025-06-23T19:05:31.869930",
     "status": "completed"
    },
    "tags": []
   },
   "outputs": [],
   "source": [
    "import torch\n",
    "import torch.nn as nn\n",
    "from torchvision import models\n",
    "\n",
    "class Network(nn.Module):\n",
    "    def __init__(self, emb_dim=128):\n",
    "        super(Network, self).__init__()\n",
    "\n",
    "        base_model = models.mobilenet_v3_large(pretrained=True)\n",
    "\n",
    "        # Lấy phần feature extractor\n",
    "        self.backbone = base_model.features  # Output: [B, 960, 7, 7]\n",
    "\n",
    "        # Global Average Pooling\n",
    "        self.pool = nn.AdaptiveAvgPool2d((1, 1))  # [B, 960, 1, 1]\n",
    "\n",
    "        # FC head\n",
    "        self.fc = nn.Sequential(\n",
    "            nn.Linear(960, 512),\n",
    "            nn.PReLU(),\n",
    "            nn.Linear(512, emb_dim)\n",
    "        )\n",
    "\n",
    "    def forward(self, x):\n",
    "        x = self.backbone(x)   # [B, 960, 7, 7]\n",
    "        x = self.pool(x)       # [B, 960, 1, 1]\n",
    "        x = torch.flatten(x, 1)  # [B, 960]\n",
    "        x = self.fc(x)         # [B, emb_dim]\n",
    "        return x\n"
   ]
  },
  {
   "cell_type": "markdown",
   "id": "9e119eaa",
   "metadata": {
    "papermill": {
     "duration": 0.020725,
     "end_time": "2025-06-23T19:05:31.939612",
     "exception": false,
     "start_time": "2025-06-23T19:05:31.918887",
     "status": "completed"
    },
    "tags": []
   },
   "source": [
    "# Test model forward"
   ]
  },
  {
   "cell_type": "code",
   "execution_count": 22,
   "id": "9c72a961",
   "metadata": {
    "execution": {
     "iopub.execute_input": "2025-06-23T19:05:31.982270Z",
     "iopub.status.busy": "2025-06-23T19:05:31.981780Z",
     "iopub.status.idle": "2025-06-23T19:05:33.054183Z",
     "shell.execute_reply": "2025-06-23T19:05:33.053266Z"
    },
    "papermill": {
     "duration": 1.095125,
     "end_time": "2025-06-23T19:05:33.055439",
     "exception": false,
     "start_time": "2025-06-23T19:05:31.960314",
     "status": "completed"
    },
    "tags": []
   },
   "outputs": [
    {
     "name": "stderr",
     "output_type": "stream",
     "text": [
      "/usr/local/lib/python3.11/dist-packages/torchvision/models/_utils.py:208: UserWarning: The parameter 'pretrained' is deprecated since 0.13 and may be removed in the future, please use 'weights' instead.\n",
      "  warnings.warn(\n",
      "/usr/local/lib/python3.11/dist-packages/torchvision/models/_utils.py:223: UserWarning: Arguments other than a weight enum or `None` for 'weights' are deprecated since 0.13 and may be removed in the future. The current behavior is equivalent to passing `weights=MobileNet_V3_Large_Weights.IMAGENET1K_V1`. You can also use `weights=MobileNet_V3_Large_Weights.DEFAULT` to get the most up-to-date weights.\n",
      "  warnings.warn(msg)\n",
      "Downloading: \"https://download.pytorch.org/models/mobilenet_v3_large-8738ca79.pth\" to /root/.cache/torch/hub/checkpoints/mobilenet_v3_large-8738ca79.pth\n",
      "100%|██████████| 21.1M/21.1M [00:00<00:00, 143MB/s] \n"
     ]
    },
    {
     "name": "stdout",
     "output_type": "stream",
     "text": [
      "torch.Size([32, 256])\n"
     ]
    }
   ],
   "source": [
    "model = Network(256).to(device)\n",
    "x = torch.rand([32, 3, 224, 224]).to(device) # input random\n",
    "output = model(x)\n",
    "print(output.shape) # output is torch.Size([32, 256]) -> good"
   ]
  },
  {
   "cell_type": "markdown",
   "id": "edb9bef7",
   "metadata": {
    "papermill": {
     "duration": 0.021519,
     "end_time": "2025-06-23T19:05:33.099445",
     "exception": false,
     "start_time": "2025-06-23T19:05:33.077926",
     "status": "completed"
    },
    "tags": []
   },
   "source": [
    "# Setup"
   ]
  },
  {
   "cell_type": "code",
   "execution_count": 23,
   "id": "9d8c410e",
   "metadata": {
    "execution": {
     "iopub.execute_input": "2025-06-23T19:05:33.142733Z",
     "iopub.status.busy": "2025-06-23T19:05:33.142454Z",
     "iopub.status.idle": "2025-06-23T19:05:33.304593Z",
     "shell.execute_reply": "2025-06-23T19:05:33.303819Z"
    },
    "papermill": {
     "duration": 0.185408,
     "end_time": "2025-06-23T19:05:33.305964",
     "exception": false,
     "start_time": "2025-06-23T19:05:33.120556",
     "status": "completed"
    },
    "tags": []
   },
   "outputs": [],
   "source": [
    "num_classes = 135\n",
    "embedding_dims = 256 #\n",
    "model = Network(embedding_dims).to(device)\n",
    "# criterion = SupervisedContrastiveLoss(temperature=0.1).to(device) \n",
    "arc_margin = ArcMarginProduct(in_features=256, out_features=num_classes).to(device)\n",
    "focal_loss = FocalLoss(gamma=2.0)\n",
    "optimizer = optim.Adam(model.parameters(), lr=1e-5, weight_decay=1e-6)\n",
    "scheduler = lr_scheduler.CosineAnnealingLR(optimizer, T_max=10, eta_min=1e-6)"
   ]
  },
  {
   "cell_type": "markdown",
   "id": "e1ceb3db",
   "metadata": {
    "papermill": {
     "duration": 0.021732,
     "end_time": "2025-06-23T19:05:33.349833",
     "exception": false,
     "start_time": "2025-06-23T19:05:33.328101",
     "status": "completed"
    },
    "tags": []
   },
   "source": [
    "# Test Function"
   ]
  },
  {
   "cell_type": "code",
   "execution_count": 24,
   "id": "136db14e",
   "metadata": {
    "execution": {
     "iopub.execute_input": "2025-06-23T19:05:33.395317Z",
     "iopub.status.busy": "2025-06-23T19:05:33.395051Z",
     "iopub.status.idle": "2025-06-23T19:05:33.597315Z",
     "shell.execute_reply": "2025-06-23T19:05:33.596587Z"
    },
    "papermill": {
     "duration": 0.227494,
     "end_time": "2025-06-23T19:05:33.598768",
     "exception": false,
     "start_time": "2025-06-23T19:05:33.371274",
     "status": "completed"
    },
    "tags": []
   },
   "outputs": [],
   "source": [
    "from sklearn.metrics import accuracy_score\n",
    "from sklearn.metrics.pairwise import cosine_similarity\n",
    "import numpy as np\n",
    "def TEST(folder_path, model, transforms, key):\n",
    "\n",
    "    label_org = []\n",
    "    dir_org = []\n",
    "    label_test = []\n",
    "    dir_test_path = []\n",
    "    dir_org_path = []\n",
    "    REFER_DICT = {}\n",
    "\n",
    "    # Put the model in evaluation mode\n",
    "    model.eval()\n",
    "\n",
    "    # Disable gradient calculation\n",
    "    with torch.no_grad():\n",
    "        # Iterate over each subfolder in the folder_path\n",
    "        for label_index, subfolder_name in enumerate(os.listdir(folder_path)):\n",
    "            REFER_DICT[label_index] = subfolder_name\n",
    "            subfolder_path = os.path.join(folder_path, subfolder_name)\n",
    "            image_files = os.listdir(subfolder_path)\n",
    "            for image_index, image_file in enumerate(image_files):\n",
    "\n",
    "                image_path = os.path.join(subfolder_path, image_file)\n",
    "\n",
    "                if key in image_path:\n",
    "\n",
    "                    image = Image.open(image_path).convert('RGB')\n",
    "                    image = transforms(image=np.array(image))[\"image\"]\n",
    "                    # Extract the embedding for the first image in the folder\n",
    "                    embedding = model(image.unsqueeze(0).to(\"cuda\"))\n",
    "                    dir_org.append(embedding)\n",
    "                    label_org.append(label_index)\n",
    "                    dir_org_path.append(image_path)\n",
    "                else:\n",
    "                    # Store the path and label for other images\n",
    "                    dir_test_path.append(image_path)\n",
    "                    label_test.append(label_index)\n",
    "\n",
    "        predict_label = []\n",
    "        Max_sim = []\n",
    "\n",
    "        # Iterate over test images\n",
    "        for test_image_path in dir_test_path:\n",
    "\n",
    "            test_image = Image.open(test_image_path).convert('RGB')\n",
    "            test_image = transforms(image=np.array(test_image))[\"image\"]\n",
    "\n",
    "            # Extract the embedding for the test image\n",
    "            test_embedding = model(test_image.unsqueeze(0).to(\"cuda\"))\n",
    "            similarities = []\n",
    "\n",
    "            # Calculate cosine similarity with each original embedding\n",
    "            for org_embedding in dir_org:\n",
    "\n",
    "                cosine_sim = cosine_similarity(org_embedding.cpu().detach().numpy(), test_embedding.cpu().detach().numpy())\n",
    "                similarities.append(cosine_sim[0][0])\n",
    "            Max_sim.append(max(similarities))\n",
    "            max_similarity_index = np.argmax(similarities)\n",
    "\n",
    "            predict_label.append(label_org[max_similarity_index])\n",
    "\n",
    "        accuracy = accuracy_score(predict_label, label_test)\n",
    "\n",
    "\n",
    "        \n",
    "        print(f'----Accuracy: {accuracy:.4f}')\n",
    "        print()\n",
    "\n",
    "        return accuracy\n",
    "\n",
    "preprocess = A.Compose([\n",
    "        A.Resize(224, 224),\n",
    "        A.Normalize(\n",
    "                mean=[0.485, 0.456, 0.406], \n",
    "                std=[0.229, 0.224, 0.225], \n",
    "                max_pixel_value=255.0, \n",
    "                p=1.0\n",
    "            ),\n",
    "        ToTensorV2()], p=1.)"
   ]
  },
  {
   "cell_type": "markdown",
   "id": "a132bdd9",
   "metadata": {
    "papermill": {
     "duration": 0.02158,
     "end_time": "2025-06-23T19:05:33.642469",
     "exception": false,
     "start_time": "2025-06-23T19:05:33.620889",
     "status": "completed"
    },
    "tags": []
   },
   "source": [
    "# Train Loop"
   ]
  },
  {
   "cell_type": "code",
   "execution_count": 25,
   "id": "0d097536",
   "metadata": {
    "execution": {
     "iopub.execute_input": "2025-06-23T19:05:33.687749Z",
     "iopub.status.busy": "2025-06-23T19:05:33.687109Z",
     "iopub.status.idle": "2025-06-23T19:05:33.691086Z",
     "shell.execute_reply": "2025-06-23T19:05:33.690328Z"
    },
    "papermill": {
     "duration": 0.02819,
     "end_time": "2025-06-23T19:05:33.692629",
     "exception": false,
     "start_time": "2025-06-23T19:05:33.664439",
     "status": "completed"
    },
    "tags": []
   },
   "outputs": [],
   "source": [
    "# epochs = 100\n",
    "# model.train()\n",
    "# scaler = torch.amp.GradScaler()\n",
    "\n",
    "# ACC = 0\n",
    "\n",
    "# for epoch in tqdm(range(epochs), desc=\"Epochs\"):\n",
    "#     running_loss = []\n",
    "#     for step, (anchor_img, label) in enumerate(train_loader):\n",
    "#         anchor_img = anchor_img.to(device).float()\n",
    "        \n",
    "#         label = label.to(device)\n",
    "#         with torch.amp.autocast('cuda',enabled=True):\n",
    "#             outputs = model(anchor_img)\n",
    "#             logits = arc_margin(outputs, label)\n",
    "#             loss = focal_loss(logits, label)\n",
    "            \n",
    "#         scaler.scale(loss).backward()\n",
    "        \n",
    "#         if (step + 1) % 4 == 0:\n",
    "#             scaler.step(optimizer)\n",
    "#             scaler.update()\n",
    "#             optimizer.zero_grad()\n",
    "#             scheduler.step()      \n",
    "            \n",
    "#         running_loss.append(loss.cpu().detach().numpy())\n",
    "#     if (epoch + 1) % 10 == 0:\n",
    "#         test_path = \"/kaggle/input/test-set-seg-extract/TEST_SET\" # Đổi địa chỉ của cái này\n",
    "#         accuracy = TEST(test_path, model, preprocess, key = \"000000\")\n",
    "        \n",
    "            \n",
    "#         model.train()\n",
    "        \n",
    "#         if accuracy >= ACC:\n",
    "#             pth = f\"/kaggle/working/model_best{accuracy*1000}.pth\"  # Đổi địa chỉ của cái này\n",
    "#             torch.save(model, pth)\n",
    "#             ACC = accuracy\n",
    "            \n",
    "#     print(\"Epoch: {}/{} - Loss: {:.4f}\".format(epoch+1, epochs, np.mean(running_loss)))"
   ]
  },
  {
   "cell_type": "code",
   "execution_count": 26,
   "id": "0886153b",
   "metadata": {
    "execution": {
     "iopub.execute_input": "2025-06-23T19:05:33.736977Z",
     "iopub.status.busy": "2025-06-23T19:05:33.736770Z",
     "iopub.status.idle": "2025-06-24T02:45:58.421035Z",
     "shell.execute_reply": "2025-06-24T02:45:58.420190Z"
    },
    "papermill": {
     "duration": 27624.738183,
     "end_time": "2025-06-24T02:45:58.452828",
     "exception": false,
     "start_time": "2025-06-23T19:05:33.714645",
     "status": "completed"
    },
    "tags": []
   },
   "outputs": [
    {
     "name": "stderr",
     "output_type": "stream",
     "text": [
      "Epochs:   0%|          | 0/100 [00:00<?, ?it/s]/usr/local/lib/python3.11/dist-packages/torch/optim/lr_scheduler.py:227: UserWarning: Detected call of `lr_scheduler.step()` before `optimizer.step()`. In PyTorch 1.1.0 and later, you should call them in the opposite order: `optimizer.step()` before `lr_scheduler.step()`.  Failure to do this will result in PyTorch skipping the first value of the learning rate schedule. See more details at https://pytorch.org/docs/stable/optim.html#how-to-adjust-learning-rate\n",
      "  warnings.warn(\n",
      "Epochs:   1%|          | 1/100 [06:04<10:01:02, 364.26s/it]"
     ]
    },
    {
     "name": "stdout",
     "output_type": "stream",
     "text": [
      "Epoch: 1/100 - Loss: 36.0594 - Accuracy: None\n"
     ]
    },
    {
     "name": "stderr",
     "output_type": "stream",
     "text": [
      "Epochs:   2%|▏         | 2/100 [10:38<8:28:11, 311.14s/it] "
     ]
    },
    {
     "name": "stdout",
     "output_type": "stream",
     "text": [
      "Epoch: 2/100 - Loss: 31.4955 - Accuracy: None\n"
     ]
    },
    {
     "name": "stderr",
     "output_type": "stream",
     "text": [
      "Epochs:   3%|▎         | 3/100 [15:14<7:56:59, 295.05s/it]"
     ]
    },
    {
     "name": "stdout",
     "output_type": "stream",
     "text": [
      "Epoch: 3/100 - Loss: 26.1851 - Accuracy: None\n"
     ]
    },
    {
     "name": "stderr",
     "output_type": "stream",
     "text": [
      "Epochs:   4%|▍         | 4/100 [19:50<7:40:25, 287.77s/it]"
     ]
    },
    {
     "name": "stdout",
     "output_type": "stream",
     "text": [
      "Epoch: 4/100 - Loss: 22.0947 - Accuracy: None\n"
     ]
    },
    {
     "name": "stderr",
     "output_type": "stream",
     "text": [
      "Epochs:   5%|▌         | 5/100 [24:27<7:29:08, 283.67s/it]"
     ]
    },
    {
     "name": "stdout",
     "output_type": "stream",
     "text": [
      "Epoch: 5/100 - Loss: 19.0139 - Accuracy: None\n"
     ]
    },
    {
     "name": "stderr",
     "output_type": "stream",
     "text": [
      "Epochs:   6%|▌         | 6/100 [29:04<7:20:49, 281.38s/it]"
     ]
    },
    {
     "name": "stdout",
     "output_type": "stream",
     "text": [
      "Epoch: 6/100 - Loss: 16.5611 - Accuracy: None\n"
     ]
    },
    {
     "name": "stderr",
     "output_type": "stream",
     "text": [
      "Epochs:   7%|▋         | 7/100 [33:35<7:11:20, 278.29s/it]"
     ]
    },
    {
     "name": "stdout",
     "output_type": "stream",
     "text": [
      "Epoch: 7/100 - Loss: 14.6302 - Accuracy: None\n"
     ]
    },
    {
     "name": "stderr",
     "output_type": "stream",
     "text": [
      "Epochs:   8%|▊         | 8/100 [38:05<7:02:21, 275.45s/it]"
     ]
    },
    {
     "name": "stdout",
     "output_type": "stream",
     "text": [
      "Epoch: 8/100 - Loss: 13.0845 - Accuracy: None\n"
     ]
    },
    {
     "name": "stderr",
     "output_type": "stream",
     "text": [
      "Epochs:   9%|▉         | 9/100 [42:32<6:53:51, 272.88s/it]"
     ]
    },
    {
     "name": "stdout",
     "output_type": "stream",
     "text": [
      "Epoch: 9/100 - Loss: 11.7981 - Accuracy: None\n"
     ]
    },
    {
     "name": "stderr",
     "output_type": "stream",
     "text": [
      "Epochs:  10%|█         | 10/100 [47:17<6:54:58, 276.65s/it]"
     ]
    },
    {
     "name": "stdout",
     "output_type": "stream",
     "text": [
      "----Accuracy: 0.8262\n",
      "\n",
      "Epoch: 10/100 - Loss: 10.7360 - Accuracy: 0.8262243285939969\n"
     ]
    },
    {
     "name": "stderr",
     "output_type": "stream",
     "text": [
      "Epochs:  11%|█         | 11/100 [51:48<6:47:54, 275.00s/it]"
     ]
    },
    {
     "name": "stdout",
     "output_type": "stream",
     "text": [
      "Epoch: 11/100 - Loss: 9.8507 - Accuracy: None\n"
     ]
    },
    {
     "name": "stderr",
     "output_type": "stream",
     "text": [
      "Epochs:  12%|█▏        | 12/100 [56:22<6:42:50, 274.67s/it]"
     ]
    },
    {
     "name": "stdout",
     "output_type": "stream",
     "text": [
      "Epoch: 12/100 - Loss: 9.0725 - Accuracy: None\n"
     ]
    },
    {
     "name": "stderr",
     "output_type": "stream",
     "text": [
      "Epochs:  13%|█▎        | 13/100 [1:00:51<6:35:48, 272.98s/it]"
     ]
    },
    {
     "name": "stdout",
     "output_type": "stream",
     "text": [
      "Epoch: 13/100 - Loss: 8.4151 - Accuracy: None\n"
     ]
    },
    {
     "name": "stderr",
     "output_type": "stream",
     "text": [
      "Epochs:  14%|█▍        | 14/100 [1:05:20<6:29:23, 271.67s/it]"
     ]
    },
    {
     "name": "stdout",
     "output_type": "stream",
     "text": [
      "Epoch: 14/100 - Loss: 7.8508 - Accuracy: None\n"
     ]
    },
    {
     "name": "stderr",
     "output_type": "stream",
     "text": [
      "Epochs:  15%|█▌        | 15/100 [1:09:54<6:25:53, 272.39s/it]"
     ]
    },
    {
     "name": "stdout",
     "output_type": "stream",
     "text": [
      "Epoch: 15/100 - Loss: 7.3490 - Accuracy: None\n"
     ]
    },
    {
     "name": "stderr",
     "output_type": "stream",
     "text": [
      "Epochs:  16%|█▌        | 16/100 [1:14:27<6:21:37, 272.59s/it]"
     ]
    },
    {
     "name": "stdout",
     "output_type": "stream",
     "text": [
      "Epoch: 16/100 - Loss: 6.8905 - Accuracy: None\n"
     ]
    },
    {
     "name": "stderr",
     "output_type": "stream",
     "text": [
      "Epochs:  17%|█▋        | 17/100 [1:19:00<6:17:10, 272.66s/it]"
     ]
    },
    {
     "name": "stdout",
     "output_type": "stream",
     "text": [
      "Epoch: 17/100 - Loss: 6.4845 - Accuracy: None\n"
     ]
    },
    {
     "name": "stderr",
     "output_type": "stream",
     "text": [
      "Epochs:  18%|█▊        | 18/100 [1:23:33<6:12:53, 272.85s/it]"
     ]
    },
    {
     "name": "stdout",
     "output_type": "stream",
     "text": [
      "Epoch: 18/100 - Loss: 6.1075 - Accuracy: None\n"
     ]
    },
    {
     "name": "stderr",
     "output_type": "stream",
     "text": [
      "Epochs:  19%|█▉        | 19/100 [1:28:04<6:07:21, 272.12s/it]"
     ]
    },
    {
     "name": "stdout",
     "output_type": "stream",
     "text": [
      "Epoch: 19/100 - Loss: 5.7764 - Accuracy: None\n"
     ]
    },
    {
     "name": "stderr",
     "output_type": "stream",
     "text": [
      "Epochs:  20%|██        | 20/100 [1:32:50<6:08:35, 276.44s/it]"
     ]
    },
    {
     "name": "stdout",
     "output_type": "stream",
     "text": [
      "----Accuracy: 0.8389\n",
      "\n",
      "Epoch: 20/100 - Loss: 5.4880 - Accuracy: 0.8388625592417062\n"
     ]
    },
    {
     "name": "stderr",
     "output_type": "stream",
     "text": [
      "Epochs:  21%|██        | 21/100 [1:37:21<6:01:41, 274.70s/it]"
     ]
    },
    {
     "name": "stdout",
     "output_type": "stream",
     "text": [
      "Epoch: 21/100 - Loss: 5.1987 - Accuracy: None\n"
     ]
    },
    {
     "name": "stderr",
     "output_type": "stream",
     "text": [
      "Epochs:  22%|██▏       | 22/100 [1:41:49<5:54:24, 272.62s/it]"
     ]
    },
    {
     "name": "stdout",
     "output_type": "stream",
     "text": [
      "Epoch: 22/100 - Loss: 4.9531 - Accuracy: None\n"
     ]
    },
    {
     "name": "stderr",
     "output_type": "stream",
     "text": [
      "Epochs:  23%|██▎       | 23/100 [1:46:15<5:47:25, 270.72s/it]"
     ]
    },
    {
     "name": "stdout",
     "output_type": "stream",
     "text": [
      "Epoch: 23/100 - Loss: 4.7502 - Accuracy: None\n"
     ]
    },
    {
     "name": "stderr",
     "output_type": "stream",
     "text": [
      "Epochs:  24%|██▍       | 24/100 [1:50:41<5:41:07, 269.31s/it]"
     ]
    },
    {
     "name": "stdout",
     "output_type": "stream",
     "text": [
      "Epoch: 24/100 - Loss: 4.5075 - Accuracy: None\n"
     ]
    },
    {
     "name": "stderr",
     "output_type": "stream",
     "text": [
      "Epochs:  25%|██▌       | 25/100 [1:55:09<5:36:20, 269.07s/it]"
     ]
    },
    {
     "name": "stdout",
     "output_type": "stream",
     "text": [
      "Epoch: 25/100 - Loss: 4.3316 - Accuracy: None\n"
     ]
    },
    {
     "name": "stderr",
     "output_type": "stream",
     "text": [
      "Epochs:  26%|██▌       | 26/100 [1:59:41<5:32:43, 269.77s/it]"
     ]
    },
    {
     "name": "stdout",
     "output_type": "stream",
     "text": [
      "Epoch: 26/100 - Loss: 4.1205 - Accuracy: None\n"
     ]
    },
    {
     "name": "stderr",
     "output_type": "stream",
     "text": [
      "Epochs:  27%|██▋       | 27/100 [2:04:12<5:28:46, 270.22s/it]"
     ]
    },
    {
     "name": "stdout",
     "output_type": "stream",
     "text": [
      "Epoch: 27/100 - Loss: 3.9290 - Accuracy: None\n"
     ]
    },
    {
     "name": "stderr",
     "output_type": "stream",
     "text": [
      "Epochs:  28%|██▊       | 28/100 [2:08:44<5:24:52, 270.73s/it]"
     ]
    },
    {
     "name": "stdout",
     "output_type": "stream",
     "text": [
      "Epoch: 28/100 - Loss: 3.7689 - Accuracy: None\n"
     ]
    },
    {
     "name": "stderr",
     "output_type": "stream",
     "text": [
      "Epochs:  29%|██▉       | 29/100 [2:13:18<5:21:20, 271.55s/it]"
     ]
    },
    {
     "name": "stdout",
     "output_type": "stream",
     "text": [
      "Epoch: 29/100 - Loss: 3.6202 - Accuracy: None\n"
     ]
    },
    {
     "name": "stderr",
     "output_type": "stream",
     "text": [
      "Epochs:  30%|███       | 30/100 [2:18:06<5:22:42, 276.61s/it]"
     ]
    },
    {
     "name": "stdout",
     "output_type": "stream",
     "text": [
      "----Accuracy: 0.8389\n",
      "\n",
      "Epoch: 30/100 - Loss: 3.4945 - Accuracy: 0.8388625592417062\n"
     ]
    },
    {
     "name": "stderr",
     "output_type": "stream",
     "text": [
      "Epochs:  31%|███       | 31/100 [2:22:38<5:16:27, 275.18s/it]"
     ]
    },
    {
     "name": "stdout",
     "output_type": "stream",
     "text": [
      "Epoch: 31/100 - Loss: 3.3444 - Accuracy: None\n"
     ]
    },
    {
     "name": "stderr",
     "output_type": "stream",
     "text": [
      "Epochs:  32%|███▏      | 32/100 [2:27:09<5:10:24, 273.89s/it]"
     ]
    },
    {
     "name": "stdout",
     "output_type": "stream",
     "text": [
      "Epoch: 32/100 - Loss: 3.2121 - Accuracy: None\n"
     ]
    },
    {
     "name": "stderr",
     "output_type": "stream",
     "text": [
      "Epochs:  33%|███▎      | 33/100 [2:31:40<5:05:07, 273.25s/it]"
     ]
    },
    {
     "name": "stdout",
     "output_type": "stream",
     "text": [
      "Epoch: 33/100 - Loss: 3.1031 - Accuracy: None\n"
     ]
    },
    {
     "name": "stderr",
     "output_type": "stream",
     "text": [
      "Epochs:  34%|███▍      | 34/100 [2:36:12<5:00:05, 272.81s/it]"
     ]
    },
    {
     "name": "stdout",
     "output_type": "stream",
     "text": [
      "Epoch: 34/100 - Loss: 2.9879 - Accuracy: None\n"
     ]
    },
    {
     "name": "stderr",
     "output_type": "stream",
     "text": [
      "Epochs:  35%|███▌      | 35/100 [2:40:45<4:55:34, 272.84s/it]"
     ]
    },
    {
     "name": "stdout",
     "output_type": "stream",
     "text": [
      "Epoch: 35/100 - Loss: 2.8960 - Accuracy: None\n"
     ]
    },
    {
     "name": "stderr",
     "output_type": "stream",
     "text": [
      "Epochs:  36%|███▌      | 36/100 [2:45:18<4:51:05, 272.89s/it]"
     ]
    },
    {
     "name": "stdout",
     "output_type": "stream",
     "text": [
      "Epoch: 36/100 - Loss: 2.7810 - Accuracy: None\n"
     ]
    },
    {
     "name": "stderr",
     "output_type": "stream",
     "text": [
      "Epochs:  37%|███▋      | 37/100 [2:49:51<4:46:30, 272.87s/it]"
     ]
    },
    {
     "name": "stdout",
     "output_type": "stream",
     "text": [
      "Epoch: 37/100 - Loss: 2.6750 - Accuracy: None\n"
     ]
    },
    {
     "name": "stderr",
     "output_type": "stream",
     "text": [
      "Epochs:  38%|███▊      | 38/100 [2:54:23<4:41:49, 272.73s/it]"
     ]
    },
    {
     "name": "stdout",
     "output_type": "stream",
     "text": [
      "Epoch: 38/100 - Loss: 2.5669 - Accuracy: None\n"
     ]
    },
    {
     "name": "stderr",
     "output_type": "stream",
     "text": [
      "Epochs:  39%|███▉      | 39/100 [2:58:54<4:36:30, 271.97s/it]"
     ]
    },
    {
     "name": "stdout",
     "output_type": "stream",
     "text": [
      "Epoch: 39/100 - Loss: 2.4973 - Accuracy: None\n"
     ]
    },
    {
     "name": "stderr",
     "output_type": "stream",
     "text": [
      "Epochs:  40%|████      | 40/100 [3:03:40<4:36:19, 276.33s/it]"
     ]
    },
    {
     "name": "stdout",
     "output_type": "stream",
     "text": [
      "----Accuracy: 0.8341\n",
      "\n",
      "Epoch: 40/100 - Loss: 2.4012 - Accuracy: 0.8341232227488151\n"
     ]
    },
    {
     "name": "stderr",
     "output_type": "stream",
     "text": [
      "Epochs:  41%|████      | 41/100 [3:08:12<4:30:21, 274.93s/it]"
     ]
    },
    {
     "name": "stdout",
     "output_type": "stream",
     "text": [
      "Epoch: 41/100 - Loss: 2.3304 - Accuracy: None\n"
     ]
    },
    {
     "name": "stderr",
     "output_type": "stream",
     "text": [
      "Epochs:  42%|████▏     | 42/100 [3:12:47<4:25:56, 275.11s/it]"
     ]
    },
    {
     "name": "stdout",
     "output_type": "stream",
     "text": [
      "Epoch: 42/100 - Loss: 2.2656 - Accuracy: None\n"
     ]
    },
    {
     "name": "stderr",
     "output_type": "stream",
     "text": [
      "Epochs:  43%|████▎     | 43/100 [3:17:18<4:20:02, 273.73s/it]"
     ]
    },
    {
     "name": "stdout",
     "output_type": "stream",
     "text": [
      "Epoch: 43/100 - Loss: 2.1739 - Accuracy: None\n"
     ]
    },
    {
     "name": "stderr",
     "output_type": "stream",
     "text": [
      "Epochs:  44%|████▍     | 44/100 [3:21:49<4:14:50, 273.05s/it]"
     ]
    },
    {
     "name": "stdout",
     "output_type": "stream",
     "text": [
      "Epoch: 44/100 - Loss: 2.0929 - Accuracy: None\n"
     ]
    },
    {
     "name": "stderr",
     "output_type": "stream",
     "text": [
      "Epochs:  45%|████▌     | 45/100 [3:26:22<4:10:16, 273.04s/it]"
     ]
    },
    {
     "name": "stdout",
     "output_type": "stream",
     "text": [
      "Epoch: 45/100 - Loss: 2.0261 - Accuracy: None\n"
     ]
    },
    {
     "name": "stderr",
     "output_type": "stream",
     "text": [
      "Epochs:  46%|████▌     | 46/100 [3:30:55<4:05:47, 273.11s/it]"
     ]
    },
    {
     "name": "stdout",
     "output_type": "stream",
     "text": [
      "Epoch: 46/100 - Loss: 1.9821 - Accuracy: None\n"
     ]
    },
    {
     "name": "stderr",
     "output_type": "stream",
     "text": [
      "Epochs:  47%|████▋     | 47/100 [3:35:30<4:01:31, 273.42s/it]"
     ]
    },
    {
     "name": "stdout",
     "output_type": "stream",
     "text": [
      "Epoch: 47/100 - Loss: 1.8999 - Accuracy: None\n"
     ]
    },
    {
     "name": "stderr",
     "output_type": "stream",
     "text": [
      "Epochs:  48%|████▊     | 48/100 [3:40:03<3:56:57, 273.41s/it]"
     ]
    },
    {
     "name": "stdout",
     "output_type": "stream",
     "text": [
      "Epoch: 48/100 - Loss: 1.8500 - Accuracy: None\n"
     ]
    },
    {
     "name": "stderr",
     "output_type": "stream",
     "text": [
      "Epochs:  49%|████▉     | 49/100 [3:44:38<3:52:41, 273.76s/it]"
     ]
    },
    {
     "name": "stdout",
     "output_type": "stream",
     "text": [
      "Epoch: 49/100 - Loss: 1.7955 - Accuracy: None\n"
     ]
    },
    {
     "name": "stderr",
     "output_type": "stream",
     "text": [
      "Epochs:  50%|█████     | 50/100 [3:49:27<3:52:01, 278.43s/it]"
     ]
    },
    {
     "name": "stdout",
     "output_type": "stream",
     "text": [
      "----Accuracy: 0.8310\n",
      "\n",
      "Epoch: 50/100 - Loss: 1.7451 - Accuracy: 0.8309636650868878\n"
     ]
    },
    {
     "name": "stderr",
     "output_type": "stream",
     "text": [
      "Epochs:  51%|█████     | 51/100 [3:54:01<3:46:17, 277.09s/it]"
     ]
    },
    {
     "name": "stdout",
     "output_type": "stream",
     "text": [
      "Epoch: 51/100 - Loss: 1.6984 - Accuracy: None\n"
     ]
    },
    {
     "name": "stderr",
     "output_type": "stream",
     "text": [
      "Epochs:  52%|█████▏    | 52/100 [3:58:36<3:41:05, 276.37s/it]"
     ]
    },
    {
     "name": "stdout",
     "output_type": "stream",
     "text": [
      "Epoch: 52/100 - Loss: 1.6354 - Accuracy: None\n"
     ]
    },
    {
     "name": "stderr",
     "output_type": "stream",
     "text": [
      "Epochs:  53%|█████▎    | 53/100 [4:03:09<3:35:53, 275.60s/it]"
     ]
    },
    {
     "name": "stdout",
     "output_type": "stream",
     "text": [
      "Epoch: 53/100 - Loss: 1.6041 - Accuracy: None\n"
     ]
    },
    {
     "name": "stderr",
     "output_type": "stream",
     "text": [
      "Epochs:  54%|█████▍    | 54/100 [4:07:44<3:31:03, 275.29s/it]"
     ]
    },
    {
     "name": "stdout",
     "output_type": "stream",
     "text": [
      "Epoch: 54/100 - Loss: 1.5376 - Accuracy: None\n"
     ]
    },
    {
     "name": "stderr",
     "output_type": "stream",
     "text": [
      "Epochs:  55%|█████▌    | 55/100 [4:12:19<3:26:18, 275.07s/it]"
     ]
    },
    {
     "name": "stdout",
     "output_type": "stream",
     "text": [
      "Epoch: 55/100 - Loss: 1.5102 - Accuracy: None\n"
     ]
    },
    {
     "name": "stderr",
     "output_type": "stream",
     "text": [
      "Epochs:  56%|█████▌    | 56/100 [4:16:53<3:21:40, 275.02s/it]"
     ]
    },
    {
     "name": "stdout",
     "output_type": "stream",
     "text": [
      "Epoch: 56/100 - Loss: 1.4608 - Accuracy: None\n"
     ]
    },
    {
     "name": "stderr",
     "output_type": "stream",
     "text": [
      "Epochs:  57%|█████▋    | 57/100 [4:21:29<3:17:14, 275.22s/it]"
     ]
    },
    {
     "name": "stdout",
     "output_type": "stream",
     "text": [
      "Epoch: 57/100 - Loss: 1.4029 - Accuracy: None\n"
     ]
    },
    {
     "name": "stderr",
     "output_type": "stream",
     "text": [
      "Epochs:  58%|█████▊    | 58/100 [4:26:06<3:13:05, 275.83s/it]"
     ]
    },
    {
     "name": "stdout",
     "output_type": "stream",
     "text": [
      "Epoch: 58/100 - Loss: 1.3929 - Accuracy: None\n"
     ]
    },
    {
     "name": "stderr",
     "output_type": "stream",
     "text": [
      "Epochs:  59%|█████▉    | 59/100 [4:30:45<3:09:00, 276.59s/it]"
     ]
    },
    {
     "name": "stdout",
     "output_type": "stream",
     "text": [
      "Epoch: 59/100 - Loss: 1.3467 - Accuracy: None\n"
     ]
    },
    {
     "name": "stderr",
     "output_type": "stream",
     "text": [
      "Epochs:  60%|██████    | 60/100 [4:35:40<3:08:03, 282.09s/it]"
     ]
    },
    {
     "name": "stdout",
     "output_type": "stream",
     "text": [
      "----Accuracy: 0.8294\n",
      "\n",
      "Epoch: 60/100 - Loss: 1.3187 - Accuracy: 0.8293838862559242\n"
     ]
    },
    {
     "name": "stderr",
     "output_type": "stream",
     "text": [
      "Epochs:  61%|██████    | 61/100 [4:40:16<3:02:19, 280.50s/it]"
     ]
    },
    {
     "name": "stdout",
     "output_type": "stream",
     "text": [
      "Epoch: 61/100 - Loss: 1.2566 - Accuracy: None\n"
     ]
    },
    {
     "name": "stderr",
     "output_type": "stream",
     "text": [
      "Epochs:  62%|██████▏   | 62/100 [4:44:53<2:56:56, 279.39s/it]"
     ]
    },
    {
     "name": "stdout",
     "output_type": "stream",
     "text": [
      "Epoch: 62/100 - Loss: 1.2377 - Accuracy: None\n"
     ]
    },
    {
     "name": "stderr",
     "output_type": "stream",
     "text": [
      "Epochs:  63%|██████▎   | 63/100 [4:49:30<2:51:43, 278.46s/it]"
     ]
    },
    {
     "name": "stdout",
     "output_type": "stream",
     "text": [
      "Epoch: 63/100 - Loss: 1.2147 - Accuracy: None\n"
     ]
    },
    {
     "name": "stderr",
     "output_type": "stream",
     "text": [
      "Epochs:  64%|██████▍   | 64/100 [4:54:02<2:45:56, 276.56s/it]"
     ]
    },
    {
     "name": "stdout",
     "output_type": "stream",
     "text": [
      "Epoch: 64/100 - Loss: 1.1677 - Accuracy: None\n"
     ]
    },
    {
     "name": "stderr",
     "output_type": "stream",
     "text": [
      "Epochs:  65%|██████▌   | 65/100 [4:58:34<2:40:39, 275.41s/it]"
     ]
    },
    {
     "name": "stdout",
     "output_type": "stream",
     "text": [
      "Epoch: 65/100 - Loss: 1.1427 - Accuracy: None\n"
     ]
    },
    {
     "name": "stderr",
     "output_type": "stream",
     "text": [
      "Epochs:  66%|██████▌   | 66/100 [5:03:07<2:35:39, 274.69s/it]"
     ]
    },
    {
     "name": "stdout",
     "output_type": "stream",
     "text": [
      "Epoch: 66/100 - Loss: 1.1064 - Accuracy: None\n"
     ]
    },
    {
     "name": "stderr",
     "output_type": "stream",
     "text": [
      "Epochs:  67%|██████▋   | 67/100 [5:07:40<2:30:46, 274.13s/it]"
     ]
    },
    {
     "name": "stdout",
     "output_type": "stream",
     "text": [
      "Epoch: 67/100 - Loss: 1.0780 - Accuracy: None\n"
     ]
    },
    {
     "name": "stderr",
     "output_type": "stream",
     "text": [
      "Epochs:  68%|██████▊   | 68/100 [5:12:14<2:26:04, 273.90s/it]"
     ]
    },
    {
     "name": "stdout",
     "output_type": "stream",
     "text": [
      "Epoch: 68/100 - Loss: 1.0565 - Accuracy: None\n"
     ]
    },
    {
     "name": "stderr",
     "output_type": "stream",
     "text": [
      "Epochs:  69%|██████▉   | 69/100 [5:16:46<2:21:18, 273.52s/it]"
     ]
    },
    {
     "name": "stdout",
     "output_type": "stream",
     "text": [
      "Epoch: 69/100 - Loss: 1.0173 - Accuracy: None\n"
     ]
    },
    {
     "name": "stderr",
     "output_type": "stream",
     "text": [
      "Epochs:  70%|███████   | 70/100 [5:21:34<2:18:53, 277.78s/it]"
     ]
    },
    {
     "name": "stdout",
     "output_type": "stream",
     "text": [
      "----Accuracy: 0.8262\n",
      "\n",
      "Epoch: 70/100 - Loss: 1.0037 - Accuracy: 0.8262243285939969\n"
     ]
    },
    {
     "name": "stderr",
     "output_type": "stream",
     "text": [
      "Epochs:  71%|███████   | 71/100 [5:26:06<2:13:29, 276.19s/it]"
     ]
    },
    {
     "name": "stdout",
     "output_type": "stream",
     "text": [
      "Epoch: 71/100 - Loss: 0.9700 - Accuracy: None\n"
     ]
    },
    {
     "name": "stderr",
     "output_type": "stream",
     "text": [
      "Epochs:  72%|███████▏  | 72/100 [5:30:39<2:08:26, 275.23s/it]"
     ]
    },
    {
     "name": "stdout",
     "output_type": "stream",
     "text": [
      "Epoch: 72/100 - Loss: 0.9577 - Accuracy: None\n"
     ]
    },
    {
     "name": "stderr",
     "output_type": "stream",
     "text": [
      "Epochs:  73%|███████▎  | 73/100 [5:35:15<2:03:56, 275.43s/it]"
     ]
    },
    {
     "name": "stdout",
     "output_type": "stream",
     "text": [
      "Epoch: 73/100 - Loss: 0.9228 - Accuracy: None\n"
     ]
    },
    {
     "name": "stderr",
     "output_type": "stream",
     "text": [
      "Epochs:  74%|███████▍  | 74/100 [5:39:52<1:59:30, 275.80s/it]"
     ]
    },
    {
     "name": "stdout",
     "output_type": "stream",
     "text": [
      "Epoch: 74/100 - Loss: 0.8967 - Accuracy: None\n"
     ]
    },
    {
     "name": "stderr",
     "output_type": "stream",
     "text": [
      "Epochs:  75%|███████▌  | 75/100 [5:44:28<1:54:59, 275.98s/it]"
     ]
    },
    {
     "name": "stdout",
     "output_type": "stream",
     "text": [
      "Epoch: 75/100 - Loss: 0.8671 - Accuracy: None\n"
     ]
    },
    {
     "name": "stderr",
     "output_type": "stream",
     "text": [
      "Epochs:  76%|███████▌  | 76/100 [5:49:04<1:50:20, 275.85s/it]"
     ]
    },
    {
     "name": "stdout",
     "output_type": "stream",
     "text": [
      "Epoch: 76/100 - Loss: 0.8594 - Accuracy: None\n"
     ]
    },
    {
     "name": "stderr",
     "output_type": "stream",
     "text": [
      "Epochs:  77%|███████▋  | 77/100 [5:53:40<1:45:48, 276.00s/it]"
     ]
    },
    {
     "name": "stdout",
     "output_type": "stream",
     "text": [
      "Epoch: 77/100 - Loss: 0.8324 - Accuracy: None\n"
     ]
    },
    {
     "name": "stderr",
     "output_type": "stream",
     "text": [
      "Epochs:  78%|███████▊  | 78/100 [5:58:16<1:41:12, 276.01s/it]"
     ]
    },
    {
     "name": "stdout",
     "output_type": "stream",
     "text": [
      "Epoch: 78/100 - Loss: 0.8117 - Accuracy: None\n"
     ]
    },
    {
     "name": "stderr",
     "output_type": "stream",
     "text": [
      "Epochs:  79%|███████▉  | 79/100 [6:02:53<1:36:38, 276.11s/it]"
     ]
    },
    {
     "name": "stdout",
     "output_type": "stream",
     "text": [
      "Epoch: 79/100 - Loss: 0.8071 - Accuracy: None\n"
     ]
    },
    {
     "name": "stderr",
     "output_type": "stream",
     "text": [
      "Epochs:  80%|████████  | 80/100 [6:07:42<1:33:23, 280.19s/it]"
     ]
    },
    {
     "name": "stdout",
     "output_type": "stream",
     "text": [
      "----Accuracy: 0.8215\n",
      "\n",
      "Epoch: 80/100 - Loss: 0.7740 - Accuracy: 0.8214849921011058\n"
     ]
    },
    {
     "name": "stderr",
     "output_type": "stream",
     "text": [
      "Epochs:  81%|████████  | 81/100 [6:12:18<1:28:16, 278.79s/it]"
     ]
    },
    {
     "name": "stdout",
     "output_type": "stream",
     "text": [
      "Epoch: 81/100 - Loss: 0.7492 - Accuracy: None\n"
     ]
    },
    {
     "name": "stderr",
     "output_type": "stream",
     "text": [
      "Epochs:  82%|████████▏ | 82/100 [6:16:56<1:23:36, 278.72s/it]"
     ]
    },
    {
     "name": "stdout",
     "output_type": "stream",
     "text": [
      "Epoch: 82/100 - Loss: 0.7153 - Accuracy: None\n"
     ]
    },
    {
     "name": "stderr",
     "output_type": "stream",
     "text": [
      "Epochs:  83%|████████▎ | 83/100 [6:21:33<1:18:49, 278.20s/it]"
     ]
    },
    {
     "name": "stdout",
     "output_type": "stream",
     "text": [
      "Epoch: 83/100 - Loss: 0.7104 - Accuracy: None\n"
     ]
    },
    {
     "name": "stderr",
     "output_type": "stream",
     "text": [
      "Epochs:  84%|████████▍ | 84/100 [6:26:11<1:14:06, 277.89s/it]"
     ]
    },
    {
     "name": "stdout",
     "output_type": "stream",
     "text": [
      "Epoch: 84/100 - Loss: 0.6833 - Accuracy: None\n"
     ]
    },
    {
     "name": "stderr",
     "output_type": "stream",
     "text": [
      "Epochs:  85%|████████▌ | 85/100 [6:30:46<1:09:19, 277.29s/it]"
     ]
    },
    {
     "name": "stdout",
     "output_type": "stream",
     "text": [
      "Epoch: 85/100 - Loss: 0.6840 - Accuracy: None\n"
     ]
    },
    {
     "name": "stderr",
     "output_type": "stream",
     "text": [
      "Epochs:  86%|████████▌ | 86/100 [6:35:25<1:04:49, 277.81s/it]"
     ]
    },
    {
     "name": "stdout",
     "output_type": "stream",
     "text": [
      "Epoch: 86/100 - Loss: 0.6699 - Accuracy: None\n"
     ]
    },
    {
     "name": "stderr",
     "output_type": "stream",
     "text": [
      "Epochs:  87%|████████▋ | 87/100 [6:40:06<1:00:20, 278.50s/it]"
     ]
    },
    {
     "name": "stdout",
     "output_type": "stream",
     "text": [
      "Epoch: 87/100 - Loss: 0.6528 - Accuracy: None\n"
     ]
    },
    {
     "name": "stderr",
     "output_type": "stream",
     "text": [
      "Epochs:  88%|████████▊ | 88/100 [6:44:44<55:42, 278.51s/it]  "
     ]
    },
    {
     "name": "stdout",
     "output_type": "stream",
     "text": [
      "Epoch: 88/100 - Loss: 0.6315 - Accuracy: None\n"
     ]
    },
    {
     "name": "stderr",
     "output_type": "stream",
     "text": [
      "Epochs:  89%|████████▉ | 89/100 [6:49:22<51:02, 278.45s/it]"
     ]
    },
    {
     "name": "stdout",
     "output_type": "stream",
     "text": [
      "Epoch: 89/100 - Loss: 0.6141 - Accuracy: None\n"
     ]
    },
    {
     "name": "stderr",
     "output_type": "stream",
     "text": [
      "Epochs:  90%|█████████ | 90/100 [6:54:16<47:08, 282.87s/it]"
     ]
    },
    {
     "name": "stdout",
     "output_type": "stream",
     "text": [
      "----Accuracy: 0.8088\n",
      "\n",
      "Epoch: 90/100 - Loss: 0.5998 - Accuracy: 0.8088467614533965\n"
     ]
    },
    {
     "name": "stderr",
     "output_type": "stream",
     "text": [
      "Epochs:  91%|█████████ | 91/100 [6:58:54<42:14, 281.66s/it]"
     ]
    },
    {
     "name": "stdout",
     "output_type": "stream",
     "text": [
      "Epoch: 91/100 - Loss: 0.5880 - Accuracy: None\n"
     ]
    },
    {
     "name": "stderr",
     "output_type": "stream",
     "text": [
      "Epochs:  92%|█████████▏| 92/100 [7:03:33<37:25, 280.64s/it]"
     ]
    },
    {
     "name": "stdout",
     "output_type": "stream",
     "text": [
      "Epoch: 92/100 - Loss: 0.5731 - Accuracy: None\n"
     ]
    },
    {
     "name": "stderr",
     "output_type": "stream",
     "text": [
      "Epochs:  93%|█████████▎| 93/100 [7:08:08<32:32, 278.98s/it]"
     ]
    },
    {
     "name": "stdout",
     "output_type": "stream",
     "text": [
      "Epoch: 93/100 - Loss: 0.5597 - Accuracy: None\n"
     ]
    },
    {
     "name": "stderr",
     "output_type": "stream",
     "text": [
      "Epochs:  94%|█████████▍| 94/100 [7:12:44<27:48, 278.14s/it]"
     ]
    },
    {
     "name": "stdout",
     "output_type": "stream",
     "text": [
      "Epoch: 94/100 - Loss: 0.5576 - Accuracy: None\n"
     ]
    },
    {
     "name": "stderr",
     "output_type": "stream",
     "text": [
      "Epochs:  95%|█████████▌| 95/100 [7:17:20<23:07, 277.43s/it]"
     ]
    },
    {
     "name": "stdout",
     "output_type": "stream",
     "text": [
      "Epoch: 95/100 - Loss: 0.5367 - Accuracy: None\n"
     ]
    },
    {
     "name": "stderr",
     "output_type": "stream",
     "text": [
      "Epochs:  96%|█████████▌| 96/100 [7:21:54<18:25, 276.48s/it]"
     ]
    },
    {
     "name": "stdout",
     "output_type": "stream",
     "text": [
      "Epoch: 96/100 - Loss: 0.5263 - Accuracy: None\n"
     ]
    },
    {
     "name": "stderr",
     "output_type": "stream",
     "text": [
      "Epochs:  97%|█████████▋| 97/100 [7:26:26<13:45, 275.25s/it]"
     ]
    },
    {
     "name": "stdout",
     "output_type": "stream",
     "text": [
      "Epoch: 97/100 - Loss: 0.4959 - Accuracy: None\n"
     ]
    },
    {
     "name": "stderr",
     "output_type": "stream",
     "text": [
      "Epochs:  98%|█████████▊| 98/100 [7:31:00<09:09, 274.60s/it]"
     ]
    },
    {
     "name": "stdout",
     "output_type": "stream",
     "text": [
      "Epoch: 98/100 - Loss: 0.4989 - Accuracy: None\n"
     ]
    },
    {
     "name": "stderr",
     "output_type": "stream",
     "text": [
      "Epochs:  99%|█████████▉| 99/100 [7:35:34<04:34, 274.57s/it]"
     ]
    },
    {
     "name": "stdout",
     "output_type": "stream",
     "text": [
      "Epoch: 99/100 - Loss: 0.4838 - Accuracy: None\n"
     ]
    },
    {
     "name": "stderr",
     "output_type": "stream",
     "text": [
      "Epochs: 100%|██████████| 100/100 [7:40:24<00:00, 276.25s/it]"
     ]
    },
    {
     "name": "stdout",
     "output_type": "stream",
     "text": [
      "----Accuracy: 0.8025\n",
      "\n",
      "Epoch: 100/100 - Loss: 0.4699 - Accuracy: 0.8025276461295419\n"
     ]
    },
    {
     "name": "stderr",
     "output_type": "stream",
     "text": [
      "\n"
     ]
    }
   ],
   "source": [
    "import csv\n",
    "import os\n",
    "\n",
    "epochs = 100\n",
    "model.train()\n",
    "scaler = torch.amp.GradScaler()\n",
    "\n",
    "ACC = 0\n",
    "log_file = \"train_log.csv\"\n",
    "model_save_dir = \"saved_models\"\n",
    "os.makedirs(model_save_dir, exist_ok=True)\n",
    "\n",
    "# Khởi tạo file CSV nếu chưa có\n",
    "if not os.path.exists(log_file):\n",
    "    with open(log_file, mode='w', newline='') as f:\n",
    "        writer = csv.writer(f)\n",
    "        writer.writerow(['Epoch', 'Loss', 'Accuracy'])\n",
    "\n",
    "for epoch in tqdm(range(epochs), desc=\"Epochs\"):\n",
    "    running_loss = []\n",
    "    for step, (anchor_img, label) in enumerate(train_loader):\n",
    "        anchor_img = anchor_img.to(device).float()\n",
    "        label = label.to(device).long()  # đảm bảo đúng dtype\n",
    "\n",
    "        with torch.amp.autocast('cuda', enabled=True):\n",
    "            outputs = model(anchor_img)\n",
    "            logits = arc_margin(outputs, label)\n",
    "            loss = focal_loss(logits, label)\n",
    "\n",
    "        scaler.scale(loss).backward()\n",
    "\n",
    "        if (step + 1) % 4 == 0:\n",
    "            scaler.step(optimizer)\n",
    "            scaler.update()\n",
    "            optimizer.zero_grad()\n",
    "            scheduler.step()\n",
    "\n",
    "        running_loss.append(loss.cpu().detach().numpy())\n",
    "\n",
    "    avg_loss = np.mean(running_loss)\n",
    "\n",
    "    # Tính accuracy mỗi 10 epoch\n",
    "    if (epoch + 1) % 10 == 0:\n",
    "        test_path = \"/kaggle/input/logo-verify-test/logo_verify_test\"  # đường dẫn test\n",
    "        accuracy = TEST(test_path, model, preprocess, key=\"000000\")\n",
    "        model.train()  # quay lại train mode\n",
    "\n",
    "        # Lưu model nếu tốt nhất\n",
    "        if accuracy >= ACC:\n",
    "            best_path = f\"/kaggle/working/model_best{accuracy*1000:.0f}.pth\"\n",
    "            torch.save(model, best_path)\n",
    "            ACC = accuracy\n",
    "    else:\n",
    "        accuracy = None  # không test\n",
    "\n",
    "    # Ghi log CSV\n",
    "    with open(log_file, mode='a', newline='') as f:\n",
    "        writer = csv.writer(f)\n",
    "        writer.writerow([epoch + 1, avg_loss, accuracy if accuracy is not None else \"\"])\n",
    "\n",
    "    # Lưu model mỗi 5 epoch\n",
    "    if (epoch + 1) % 10 == 0:\n",
    "        torch.save(model, f\"{model_save_dir}/model_epoch_{epoch + 1}.pth\")\n",
    "\n",
    "    print(f\"Epoch: {epoch+1}/{epochs} - Loss: {avg_loss:.4f} - Accuracy: {accuracy}\")\n"
   ]
  }
 ],
 "metadata": {
  "kaggle": {
   "accelerator": "nvidiaTeslaT4",
   "dataSources": [
    {
     "datasetId": 7719970,
     "sourceId": 12252246,
     "sourceType": "datasetVersion"
    },
    {
     "datasetId": 5888595,
     "sourceId": 9642830,
     "sourceType": "datasetVersion"
    }
   ],
   "dockerImageVersionId": 31041,
   "isGpuEnabled": true,
   "isInternetEnabled": true,
   "language": "python",
   "sourceType": "notebook"
  },
  "kernelspec": {
   "display_name": "Python 3",
   "language": "python",
   "name": "python3"
  },
  "language_info": {
   "codemirror_mode": {
    "name": "ipython",
    "version": 3
   },
   "file_extension": ".py",
   "mimetype": "text/x-python",
   "name": "python",
   "nbconvert_exporter": "python",
   "pygments_lexer": "ipython3",
   "version": "3.11.11"
  },
  "papermill": {
   "default_parameters": {},
   "duration": 27746.44314,
   "end_time": "2025-06-24T02:46:00.810162",
   "environment_variables": {},
   "exception": null,
   "input_path": "__notebook__.ipynb",
   "output_path": "__notebook__.ipynb",
   "parameters": {},
   "start_time": "2025-06-23T19:03:34.367022",
   "version": "2.6.0"
  }
 },
 "nbformat": 4,
 "nbformat_minor": 5
}
