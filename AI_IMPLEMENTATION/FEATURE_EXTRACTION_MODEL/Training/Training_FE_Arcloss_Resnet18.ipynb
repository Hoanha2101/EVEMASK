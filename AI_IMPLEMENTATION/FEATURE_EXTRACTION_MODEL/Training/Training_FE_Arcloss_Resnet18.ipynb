{
 "cells": [
  {
   "cell_type": "code",
   "execution_count": 1,
   "id": "9c375b7c",
   "metadata": {
    "_cell_guid": "b1076dfc-b9ad-4769-8c92-a6c4dae69d19",
    "_uuid": "8f2839f25d086af736a60e9eeb907d3b93b6e0e5",
    "execution": {
     "iopub.execute_input": "2025-06-23T21:10:57.516548Z",
     "iopub.status.busy": "2025-06-23T21:10:57.515939Z",
     "iopub.status.idle": "2025-06-23T21:12:27.844748Z",
     "shell.execute_reply": "2025-06-23T21:12:27.843897Z"
    },
    "papermill": {
     "duration": 90.334199,
     "end_time": "2025-06-23T21:12:27.846329",
     "exception": false,
     "start_time": "2025-06-23T21:10:57.512130",
     "status": "completed"
    },
    "tags": []
   },
   "outputs": [
    {
     "name": "stdout",
     "output_type": "stream",
     "text": [
      "\u001b[2K   \u001b[90m━━━━━━━━━━━━━━━━━━━━━━━━━━━━━━━━━━━━━━━━\u001b[0m \u001b[32m125.9/125.9 kB\u001b[0m \u001b[31m2.2 MB/s\u001b[0m eta \u001b[36m0:00:00\u001b[0m\r\n",
      "\u001b[2K   \u001b[90m━━━━━━━━━━━━━━━━━━━━━━━━━━━━━━━━━━━━━━━━\u001b[0m \u001b[32m363.4/363.4 MB\u001b[0m \u001b[31m3.9 MB/s\u001b[0m eta \u001b[36m0:00:00\u001b[0m\r\n",
      "\u001b[2K   \u001b[90m━━━━━━━━━━━━━━━━━━━━━━━━━━━━━━━━━━━━━━━━\u001b[0m \u001b[32m664.8/664.8 MB\u001b[0m \u001b[31m2.1 MB/s\u001b[0m eta \u001b[36m0:00:00\u001b[0m\r\n",
      "\u001b[2K   \u001b[90m━━━━━━━━━━━━━━━━━━━━━━━━━━━━━━━━━━━━━━━━\u001b[0m \u001b[32m211.5/211.5 MB\u001b[0m \u001b[31m8.0 MB/s\u001b[0m eta \u001b[36m0:00:00\u001b[0m\r\n",
      "\u001b[2K   \u001b[90m━━━━━━━━━━━━━━━━━━━━━━━━━━━━━━━━━━━━━━━━\u001b[0m \u001b[32m56.3/56.3 MB\u001b[0m \u001b[31m30.2 MB/s\u001b[0m eta \u001b[36m0:00:00\u001b[0m\r\n",
      "\u001b[2K   \u001b[90m━━━━━━━━━━━━━━━━━━━━━━━━━━━━━━━━━━━━━━━━\u001b[0m \u001b[32m127.9/127.9 MB\u001b[0m \u001b[31m13.1 MB/s\u001b[0m eta \u001b[36m0:00:00\u001b[0m\r\n",
      "\u001b[2K   \u001b[90m━━━━━━━━━━━━━━━━━━━━━━━━━━━━━━━━━━━━━━━━\u001b[0m \u001b[32m207.5/207.5 MB\u001b[0m \u001b[31m8.2 MB/s\u001b[0m eta \u001b[36m0:00:00\u001b[0m\r\n",
      "\u001b[2K   \u001b[90m━━━━━━━━━━━━━━━━━━━━━━━━━━━━━━━━━━━━━━━━\u001b[0m \u001b[32m21.1/21.1 MB\u001b[0m \u001b[31m77.1 MB/s\u001b[0m eta \u001b[36m0:00:00\u001b[0m\r\n",
      "\u001b[?25h"
     ]
    }
   ],
   "source": [
    "!pip install pytorch-metric-learning -q"
   ]
  },
  {
   "cell_type": "code",
   "execution_count": 2,
   "id": "e07fc328",
   "metadata": {
    "execution": {
     "iopub.execute_input": "2025-06-23T21:12:27.886436Z",
     "iopub.status.busy": "2025-06-23T21:12:27.886161Z",
     "iopub.status.idle": "2025-06-23T21:12:44.814661Z",
     "shell.execute_reply": "2025-06-23T21:12:44.814096Z"
    },
    "papermill": {
     "duration": 16.94955,
     "end_time": "2025-06-23T21:12:44.815984",
     "exception": false,
     "start_time": "2025-06-23T21:12:27.866434",
     "status": "completed"
    },
    "tags": []
   },
   "outputs": [
    {
     "name": "stderr",
     "output_type": "stream",
     "text": [
      "/usr/local/lib/python3.11/dist-packages/albumentations/__init__.py:28: UserWarning: A new version of Albumentations is available: '2.0.8' (you have '2.0.5'). Upgrade using: pip install -U albumentations. To disable automatic update checks, set the environment variable NO_ALBUMENTATIONS_UPDATE to 1.\n",
      "  check_for_updates()\n"
     ]
    }
   ],
   "source": [
    "import os\n",
    "import torch\n",
    "import torch.nn as nn\n",
    "from torch.utils.data import DataLoader, Dataset\n",
    "import torchvision.transforms as transforms\n",
    "import cv2\n",
    "from PIL import Image\n",
    "import numpy as np\n",
    "import matplotlib.pyplot as plt\n",
    "from torch import optim\n",
    "from tqdm import tqdm\n",
    "from torchvision import models\n",
    "import random\n",
    "import albumentations as A\n",
    "from albumentations.pytorch import ToTensorV2\n",
    "from torch.cuda import amp\n",
    "from torch.optim import lr_scheduler\n",
    "import torch.nn.functional as F\n",
    "from pytorch_metric_learning import losses\n",
    "import math"
   ]
  },
  {
   "cell_type": "code",
   "execution_count": 3,
   "id": "1554a463",
   "metadata": {
    "execution": {
     "iopub.execute_input": "2025-06-23T21:12:44.855082Z",
     "iopub.status.busy": "2025-06-23T21:12:44.854451Z",
     "iopub.status.idle": "2025-06-23T21:12:44.945464Z",
     "shell.execute_reply": "2025-06-23T21:12:44.944604Z"
    },
    "papermill": {
     "duration": 0.111048,
     "end_time": "2025-06-23T21:12:44.946658",
     "exception": false,
     "start_time": "2025-06-23T21:12:44.835610",
     "status": "completed"
    },
    "tags": []
   },
   "outputs": [
    {
     "name": "stdout",
     "output_type": "stream",
     "text": [
      "cuda\n"
     ]
    }
   ],
   "source": [
    "device = torch.device(\"cuda\" if torch.cuda.is_available() else \"cpu\")\n",
    "print(device)"
   ]
  },
  {
   "cell_type": "code",
   "execution_count": 4,
   "id": "6bab6ddc",
   "metadata": {
    "execution": {
     "iopub.execute_input": "2025-06-23T21:12:44.985911Z",
     "iopub.status.busy": "2025-06-23T21:12:44.985358Z",
     "iopub.status.idle": "2025-06-23T21:12:44.998561Z",
     "shell.execute_reply": "2025-06-23T21:12:44.997785Z"
    },
    "papermill": {
     "duration": 0.033486,
     "end_time": "2025-06-23T21:12:44.999768",
     "exception": false,
     "start_time": "2025-06-23T21:12:44.966282",
     "status": "completed"
    },
    "tags": []
   },
   "outputs": [
    {
     "name": "stderr",
     "output_type": "stream",
     "text": [
      "/tmp/ipykernel_18/515749218.py:6: UserWarning: Argument(s) 'max_holes, max_height, max_width, min_holes, min_height, min_width, fill_value' are not valid for transform CoarseDropout\n",
      "  A.CoarseDropout(\n"
     ]
    }
   ],
   "source": [
    "INPUT_SIZE = (224, 224)\n",
    "data_transform = A.Compose([A.Resize(INPUT_SIZE[0], INPUT_SIZE[1]),\n",
    "                        A.HorizontalFlip(p=0.5),\n",
    "                        A.VerticalFlip(p=0.5),\n",
    "                        A.Rotate(limit=45, p=1.0),\n",
    "                        A.CoarseDropout(\n",
    "                                    max_holes=8,                \n",
    "                                    max_height=16,              \n",
    "                                    max_width=16,               \n",
    "                                    min_holes=1,                \n",
    "                                    min_height=8,               \n",
    "                                    min_width=8,                \n",
    "                                    fill_value=0,               \n",
    "                                    p=0.5                        \n",
    "                                ),\n",
    "                        A.RandomBrightnessContrast(\n",
    "                                brightness_limit=(-0.1,0.1), \n",
    "                                contrast_limit=(-0.1, 0.1), \n",
    "                                p=0.5),\n",
    "                        A.Normalize(\n",
    "                                mean=[0.485, 0.456, 0.406], \n",
    "                                std=[0.229, 0.224, 0.225], \n",
    "                                max_pixel_value=255.0, \n",
    "                                p=1.0),\n",
    "                        ToTensorV2()], p=1.)"
   ]
  },
  {
   "cell_type": "code",
   "execution_count": 5,
   "id": "ff06848c",
   "metadata": {
    "execution": {
     "iopub.execute_input": "2025-06-23T21:12:45.037595Z",
     "iopub.status.busy": "2025-06-23T21:12:45.037399Z",
     "iopub.status.idle": "2025-06-23T21:12:45.044152Z",
     "shell.execute_reply": "2025-06-23T21:12:45.043652Z"
    },
    "papermill": {
     "duration": 0.027023,
     "end_time": "2025-06-23T21:12:45.045149",
     "exception": false,
     "start_time": "2025-06-23T21:12:45.018126",
     "status": "completed"
    },
    "tags": []
   },
   "outputs": [],
   "source": [
    "class DATA(Dataset):\n",
    "    def __init__(self, path, transform=None, phase=\"train\"):\n",
    "        self.path = path\n",
    "        self.phase = phase\n",
    "        self.transform = transform\n",
    "        \n",
    "        folders = os.listdir(path)\n",
    "        self.image_paths = []  # ❌ Chỉ lưu đường dẫn, không load ảnh\n",
    "        self.labels = []\n",
    "        \n",
    "        self.label_dict = {}\n",
    "        for i, value in enumerate(folders):\n",
    "            self.label_dict[value] = i\n",
    "        print(self.label_dict)\n",
    "        \n",
    "        for image_folder in folders:\n",
    "            items_path = os.path.join(self.path, image_folder)\n",
    "            items_list = os.listdir(items_path)\n",
    "            \n",
    "            for image_name in items_list:\n",
    "                image_path = os.path.join(items_path, image_name)\n",
    "                self.image_paths.append(image_path)  # ✅ Chỉ lưu path\n",
    "                self.labels.append(self.label_dict[image_folder])\n",
    "    \n",
    "    def __len__(self):\n",
    "        return len(self.image_paths)\n",
    "    \n",
    "    def __getitem__(self, idx):\n",
    "        # ✅ Load ảnh khi cần thiết\n",
    "        image_path = self.image_paths[idx]\n",
    "        image = cv2.imread(image_path)\n",
    "        if image is not None:\n",
    "            image = cv2.cvtColor(image, cv2.COLOR_BGR2RGB)\n",
    "        \n",
    "        label = self.labels[idx]\n",
    "        \n",
    "        if self.phase == \"train\":\n",
    "            if self.transform:\n",
    "                image = self.transform(image=image)[\"image\"]\n",
    "            return image, torch.tensor(label, dtype=torch.float32)\n",
    "        else:\n",
    "            if self.transform:\n",
    "                image = self.transform(image=image)[\"image\"]\n",
    "            return image, torch.tensor(label, dtype=int)"
   ]
  },
  {
   "cell_type": "code",
   "execution_count": 6,
   "id": "30e83810",
   "metadata": {
    "execution": {
     "iopub.execute_input": "2025-06-23T21:12:45.083508Z",
     "iopub.status.busy": "2025-06-23T21:12:45.083101Z",
     "iopub.status.idle": "2025-06-23T21:13:00.540315Z",
     "shell.execute_reply": "2025-06-23T21:13:00.539578Z"
    },
    "papermill": {
     "duration": 15.477961,
     "end_time": "2025-06-23T21:13:00.541459",
     "exception": false,
     "start_time": "2025-06-23T21:12:45.063498",
     "status": "completed"
    },
    "tags": []
   },
   "outputs": [
    {
     "name": "stdout",
     "output_type": "stream",
     "text": [
      "{'bet365': 0, 'Hermes': 1, 'danone': 2, 'netflix': 3, 'allianz': 4, 'CNN': 5, 'Prudential': 6, 'prada': 7, 'HSBC_fix35': 8, 'Meiji': 9, 'Aljazeera': 10, 'Asics': 11, 'pointsbet': 12, 'Reuters': 13, 'metlife': 14, 'National_Geographic': 15, 'Shell': 16, 'cartier': 17, 'Sheraton': 18, 'J_J': 19, 'budweiser': 20, 'aegon': 21, 'TikTok': 22, 'Dropbox': 23, 'H_M': 24, 'Deutsche_Bank': 25, 'firefox': 26, 'Volkswagen': 27, 'Panasonic': 28, 'maybach': 29, 'samsung': 30, '3M': 31, 'nvidia': 32, 'Gucci': 33, 'Tripadvisor': 34, 'Snapchat': 35, 'Xiaomi': 36, 'nivea': 37, 'Booking': 38, 'Generali': 39, 'paypal': 40, 'Ritz_Carlton': 41, 'mentos': 42, 'ebay': 43, 'gillette': 44, 'oacle': 45, 'dove': 46, 'Airbnb': 47, 'toyota': 48, 'BK8': 49, 'facebook': 50, 'Suzuki': 51, 'domino_pizza': 52, 'alpenliebe': 53, 'Fanduel': 54, 'Dell': 55, 'pizza_hut': 56, 'Marriott': 57, 'rolex': 58, 'Lenovo': 59, 'golia': 60, 'Cloudflare': 61, 'Maserati': 62, '7up': 63, 'BBC': 64, 'dafabet': 65, 'tacobell': 66, 'Citroen': 67, 'Hollywoodbet': 68, 'mastercard': 69, 'Unibet': 70, 'Citi': 71, 'avon': 72, 'lamborghini': 73, 'milo': 74, 'espn': 75, 'jollibee': 76, 'Bosch': 77, 'sony': 78, 'Jeep': 79, 'Bloomberg': 80, 'Line': 81, 'volvo': 82, 'ibm': 83, 'bally': 84, 'loreal': 85, 'Uniqlo': 86, 'baskin_robbins': 87, 'Forbes': 88, 'Colgate': 89, 'betway': 90, 'popeyes': 91, 'Cadillac': 92, 'P_G': 93, 'Louis_Vuitton': 94, 'AFC': 95, 'JPMorgan_Chase': 96, 'axa': 97, 'Mercedes_Benz': 98, 'Tumblr': 99, 'Chevrolet': 100, 'cocacola': 101, 'betmgm': 102, 'acb': 103, 'subway': 104, 'tencent': 105, 'visa': 106, 'adobe': 107, 'VK': 108, 'Ferrari': 109, 'dunkin': 110, 'Razer': 111, 'heineken': 112, 'Zara': 113, 'WeChat_FIX': 114, 'Reddit': 115, 'Audi': 116, 'tissot': 117, 'mcdonald': 118, 'tagheuer': 119, 'costco': 120, 'draftkings': 121, 'snickers': 122, 'solite': 123, 'Expedia': 124, 'Discovery': 125, 'Acura': 126, 'Subaru': 127, 'American_Express': 128, 'Hilton': 129, 'Dior': 130, 'instagram': 131, 'Bugatti': 132, 'betrivers': 133, 'corona': 134}\n",
      "Load time: 15.4513 s\n"
     ]
    },
    {
     "data": {
      "text/plain": [
       "103302"
      ]
     },
     "execution_count": 6,
     "metadata": {},
     "output_type": "execute_result"
    }
   ],
   "source": [
    "import time\n",
    "start = time.time()\n",
    "train_path = \"/kaggle/input/data-augmented-model-2/augmented_data_model_2\"\n",
    "train_data =  DATA(train_path, data_transform, phase = \"train\")\n",
    "end = time.time()\n",
    "print(f\"Load time: {round(end - start, 4)} s\")\n",
    "len(train_data)"
   ]
  },
  {
   "cell_type": "code",
   "execution_count": 7,
   "id": "3f3cef37",
   "metadata": {
    "execution": {
     "iopub.execute_input": "2025-06-23T21:13:00.579856Z",
     "iopub.status.busy": "2025-06-23T21:13:00.579581Z",
     "iopub.status.idle": "2025-06-23T21:13:00.999424Z",
     "shell.execute_reply": "2025-06-23T21:13:00.998593Z"
    },
    "papermill": {
     "duration": 0.440554,
     "end_time": "2025-06-23T21:13:01.000881",
     "exception": false,
     "start_time": "2025-06-23T21:13:00.560327",
     "status": "completed"
    },
    "tags": []
   },
   "outputs": [
    {
     "data": {
      "image/png": "[encoded data removed]",
      "text/plain": [
       "<Figure size 640x480 with 1 Axes>"
      ]
     },
     "metadata": {},
     "output_type": "display_data"
    }
   ],
   "source": [
    "anchor_img, label = train_data[100] # image at index = 100\n",
    "img_np = anchor_img.numpy()\n",
    "img_np = np.transpose(img_np, (1,2,0))\n",
    "\n",
    "plt.imshow(img_np)\n",
    "plt.show()"
   ]
  },
  {
   "cell_type": "code",
   "execution_count": 8,
   "id": "69faaf98",
   "metadata": {
    "execution": {
     "iopub.execute_input": "2025-06-23T21:13:01.050431Z",
     "iopub.status.busy": "2025-06-23T21:13:01.050164Z",
     "iopub.status.idle": "2025-06-23T21:13:01.054125Z",
     "shell.execute_reply": "2025-06-23T21:13:01.053556Z"
    },
    "papermill": {
     "duration": 0.033608,
     "end_time": "2025-06-23T21:13:01.055170",
     "exception": false,
     "start_time": "2025-06-23T21:13:01.021562",
     "status": "completed"
    },
    "tags": []
   },
   "outputs": [],
   "source": [
    "batch_size =  32 # Batch = 32 là max khi train với colab và kaggle, nếu lớn hơn thì out of memory -- Vram có 16gb thôi\n",
    "train_loader = DataLoader(train_data,\n",
    "                          batch_size=batch_size,\n",
    "                          shuffle=True,\n",
    "                          num_workers = os.cpu_count()\n",
    "                          )"
   ]
  },
  {
   "cell_type": "code",
   "execution_count": 9,
   "id": "e5b8b3ab",
   "metadata": {
    "execution": {
     "iopub.execute_input": "2025-06-23T21:13:01.149796Z",
     "iopub.status.busy": "2025-06-23T21:13:01.149117Z",
     "iopub.status.idle": "2025-06-23T21:13:01.155651Z",
     "shell.execute_reply": "2025-06-23T21:13:01.155096Z"
    },
    "papermill": {
     "duration": 0.085074,
     "end_time": "2025-06-23T21:13:01.160628",
     "exception": false,
     "start_time": "2025-06-23T21:13:01.075554",
     "status": "completed"
    },
    "tags": []
   },
   "outputs": [],
   "source": [
    "class ArcMarginProduct(nn.Module):\n",
    "    def __init__(self, in_features, out_features, s=64.0, m=0.5):\n",
    "        super().__init__()\n",
    "        self.weight = nn.Parameter(torch.FloatTensor(out_features, in_features))\n",
    "        nn.init.xavier_uniform_(self.weight)\n",
    "        self.s = s\n",
    "        self.m = m\n",
    "        self.cos_m = math.cos(m)\n",
    "        self.sin_m = math.sin(m)\n",
    "        self.th = math.cos(math.pi - m)\n",
    "        self.mm = math.sin(math.pi - m) * m\n",
    "\n",
    "    def forward(self, input, label):\n",
    "        cosine = F.linear(F.normalize(input), F.normalize(self.weight))\n",
    "        sine = torch.sqrt(1.0 - torch.clamp(cosine ** 2, 0, 1))\n",
    "        phi = cosine * self.cos_m - sine * self.sin_m\n",
    "        phi = torch.where(cosine > self.th, phi, cosine - self.mm)\n",
    "\n",
    "        one_hot = torch.zeros_like(cosine)\n",
    "        one_hot.scatter_(1, label.view(-1, 1).long(), 1.0)\n",
    "        output = (one_hot * phi) + ((1.0 - one_hot) * cosine)\n",
    "        output *= self.s\n",
    "        return output"
   ]
  },
  {
   "cell_type": "code",
   "execution_count": 10,
   "id": "58304196",
   "metadata": {
    "execution": {
     "iopub.execute_input": "2025-06-23T21:13:01.201435Z",
     "iopub.status.busy": "2025-06-23T21:13:01.201259Z",
     "iopub.status.idle": "2025-06-23T21:13:01.206106Z",
     "shell.execute_reply": "2025-06-23T21:13:01.205433Z"
    },
    "papermill": {
     "duration": 0.026649,
     "end_time": "2025-06-23T21:13:01.207128",
     "exception": false,
     "start_time": "2025-06-23T21:13:01.180479",
     "status": "completed"
    },
    "tags": []
   },
   "outputs": [],
   "source": [
    "class FocalLoss(nn.Module):\n",
    "    def __init__(self, gamma=2.0, alpha=None, reduction='mean'):\n",
    "        super().__init__()\n",
    "        self.gamma = gamma\n",
    "        self.alpha = alpha  # optional class weights\n",
    "        self.reduction = reduction\n",
    "\n",
    "    def forward(self, logits, targets):\n",
    "        targets = targets.long()\n",
    "        ce_loss = F.cross_entropy(logits, targets, reduction='none', weight=self.alpha)\n",
    "        pt = torch.exp(-ce_loss)  # pt = softmax(logits)[target]\n",
    "        focal_loss = ((1 - pt) ** self.gamma) * ce_loss\n",
    "\n",
    "        if self.reduction == 'mean':\n",
    "            return focal_loss.mean()\n",
    "        elif self.reduction == 'sum':\n",
    "            return focal_loss.sum()\n",
    "        return focal_loss\n"
   ]
  },
  {
   "cell_type": "markdown",
   "id": "268e0098",
   "metadata": {
    "papermill": {
     "duration": 0.020311,
     "end_time": "2025-06-23T21:13:01.247907",
     "exception": false,
     "start_time": "2025-06-23T21:13:01.227596",
     "status": "completed"
    },
    "tags": []
   },
   "source": [
    "# Resnet18"
   ]
  },
  {
   "cell_type": "code",
   "execution_count": 11,
   "id": "abde0d85",
   "metadata": {
    "execution": {
     "iopub.execute_input": "2025-06-23T21:13:01.290055Z",
     "iopub.status.busy": "2025-06-23T21:13:01.289815Z",
     "iopub.status.idle": "2025-06-23T21:13:01.294963Z",
     "shell.execute_reply": "2025-06-23T21:13:01.294408Z"
    },
    "papermill": {
     "duration": 0.027348,
     "end_time": "2025-06-23T21:13:01.296009",
     "exception": false,
     "start_time": "2025-06-23T21:13:01.268661",
     "status": "completed"
    },
    "tags": []
   },
   "outputs": [],
   "source": [
    "import torch\n",
    "import torch.nn as nn\n",
    "from torchvision import models\n",
    "\n",
    "class Network(nn.Module):\n",
    "    def __init__(self, emb_dim=128):\n",
    "        super(Network, self).__init__()\n",
    "\n",
    "        base_model = models.resnet18(pretrained=True)  \n",
    "        self.backbone = nn.Sequential(*list(base_model.children())[:-1])  \n",
    "        self.fc = nn.Sequential(\n",
    "            nn.Linear(512, 256),\n",
    "            nn.PReLU(),\n",
    "            nn.Linear(256, emb_dim)\n",
    "        )\n",
    "\n",
    "    def forward(self, x):\n",
    "        x = self.backbone(x)           # [B, 512, 1, 1]\n",
    "        x = torch.flatten(x, 1)        # [B, 512]\n",
    "        x = self.fc(x)                 # [B, emb_dim]\n",
    "        return x\n"
   ]
  },
  {
   "cell_type": "code",
   "execution_count": 12,
   "id": "a32491a3",
   "metadata": {
    "execution": {
     "iopub.execute_input": "2025-06-23T21:13:01.341420Z",
     "iopub.status.busy": "2025-06-23T21:13:01.341217Z",
     "iopub.status.idle": "2025-06-23T21:13:02.667064Z",
     "shell.execute_reply": "2025-06-23T21:13:02.666294Z"
    },
    "papermill": {
     "duration": 1.350205,
     "end_time": "2025-06-23T21:13:02.668265",
     "exception": false,
     "start_time": "2025-06-23T21:13:01.318060",
     "status": "completed"
    },
    "tags": []
   },
   "outputs": [
    {
     "name": "stderr",
     "output_type": "stream",
     "text": [
      "/usr/local/lib/python3.11/dist-packages/torchvision/models/_utils.py:208: UserWarning: The parameter 'pretrained' is deprecated since 0.13 and may be removed in the future, please use 'weights' instead.\n",
      "  warnings.warn(\n",
      "/usr/local/lib/python3.11/dist-packages/torchvision/models/_utils.py:223: UserWarning: Arguments other than a weight enum or `None` for 'weights' are deprecated since 0.13 and may be removed in the future. The current behavior is equivalent to passing `weights=ResNet18_Weights.IMAGENET1K_V1`. You can also use `weights=ResNet18_Weights.DEFAULT` to get the most up-to-date weights.\n",
      "  warnings.warn(msg)\n",
      "Downloading: \"https://download.pytorch.org/models/resnet18-f37072fd.pth\" to /root/.cache/torch/hub/checkpoints/resnet18-f37072fd.pth\n",
      "100%|██████████| 44.7M/44.7M [00:00<00:00, 154MB/s]\n"
     ]
    },
    {
     "name": "stdout",
     "output_type": "stream",
     "text": [
      "torch.Size([32, 256])\n"
     ]
    }
   ],
   "source": [
    "model = Network(256).to(device)\n",
    "x = torch.rand([32, 3, 224, 224]).to(device) # input random\n",
    "output = model(x)\n",
    "print(output.shape) # output is torch.Size([32, 256]) -> good"
   ]
  },
  {
   "cell_type": "code",
   "execution_count": 13,
   "id": "a90413b2",
   "metadata": {
    "execution": {
     "iopub.execute_input": "2025-06-23T21:13:02.711357Z",
     "iopub.status.busy": "2025-06-23T21:13:02.711128Z",
     "iopub.status.idle": "2025-06-23T21:13:02.957503Z",
     "shell.execute_reply": "2025-06-23T21:13:02.956959Z"
    },
    "papermill": {
     "duration": 0.269505,
     "end_time": "2025-06-23T21:13:02.958800",
     "exception": false,
     "start_time": "2025-06-23T21:13:02.689295",
     "status": "completed"
    },
    "tags": []
   },
   "outputs": [],
   "source": [
    "num_classes = 135\n",
    "embedding_dims = 256 #\n",
    "model = Network(embedding_dims).to(device)\n",
    "# criterion = SupervisedContrastiveLoss(temperature=0.1).to(device) \n",
    "arc_margin = ArcMarginProduct(in_features=256, out_features=num_classes).to(device)\n",
    "focal_loss = FocalLoss(gamma=2.0)\n",
    "optimizer = optim.Adam(model.parameters(), lr=1e-5, weight_decay=1e-6)\n",
    "scheduler = lr_scheduler.CosineAnnealingLR(optimizer, T_max=10, eta_min=1e-6)"
   ]
  },
  {
   "cell_type": "code",
   "execution_count": 14,
   "id": "c589828e",
   "metadata": {
    "execution": {
     "iopub.execute_input": "2025-06-23T21:13:03.003103Z",
     "iopub.status.busy": "2025-06-23T21:13:03.002875Z",
     "iopub.status.idle": "2025-06-23T21:13:03.409609Z",
     "shell.execute_reply": "2025-06-23T21:13:03.409072Z"
    },
    "papermill": {
     "duration": 0.431159,
     "end_time": "2025-06-23T21:13:03.411037",
     "exception": false,
     "start_time": "2025-06-23T21:13:02.979878",
     "status": "completed"
    },
    "tags": []
   },
   "outputs": [],
   "source": [
    "from sklearn.metrics import accuracy_score\n",
    "from sklearn.metrics.pairwise import cosine_similarity\n",
    "import numpy as np\n",
    "def TEST(folder_path, model, transforms, key):\n",
    "\n",
    "    label_org = []\n",
    "    dir_org = []\n",
    "    label_test = []\n",
    "    dir_test_path = []\n",
    "    dir_org_path = []\n",
    "    REFER_DICT = {}\n",
    "\n",
    "    # Put the model in evaluation mode\n",
    "    model.eval()\n",
    "\n",
    "    # Disable gradient calculation\n",
    "    with torch.no_grad():\n",
    "        # Iterate over each subfolder in the folder_path\n",
    "        for label_index, subfolder_name in enumerate(os.listdir(folder_path)):\n",
    "            REFER_DICT[label_index] = subfolder_name\n",
    "            subfolder_path = os.path.join(folder_path, subfolder_name)\n",
    "            image_files = os.listdir(subfolder_path)\n",
    "            for image_index, image_file in enumerate(image_files):\n",
    "\n",
    "                image_path = os.path.join(subfolder_path, image_file)\n",
    "\n",
    "                if key in image_path:\n",
    "\n",
    "                    image = Image.open(image_path).convert('RGB')\n",
    "                    image = transforms(image=np.array(image))[\"image\"]\n",
    "                    # Extract the embedding for the first image in the folder\n",
    "                    embedding = model(image.unsqueeze(0).to(\"cuda\"))\n",
    "                    dir_org.append(embedding)\n",
    "                    label_org.append(label_index)\n",
    "                    dir_org_path.append(image_path)\n",
    "                else:\n",
    "                    # Store the path and label for other images\n",
    "                    dir_test_path.append(image_path)\n",
    "                    label_test.append(label_index)\n",
    "\n",
    "        predict_label = []\n",
    "        Max_sim = []\n",
    "\n",
    "        # Iterate over test images\n",
    "        for test_image_path in dir_test_path:\n",
    "\n",
    "            test_image = Image.open(test_image_path).convert('RGB')\n",
    "            test_image = transforms(image=np.array(test_image))[\"image\"]\n",
    "\n",
    "            # Extract the embedding for the test image\n",
    "            test_embedding = model(test_image.unsqueeze(0).to(\"cuda\"))\n",
    "            similarities = []\n",
    "\n",
    "            # Calculate cosine similarity with each original embedding\n",
    "            for org_embedding in dir_org:\n",
    "\n",
    "                cosine_sim = cosine_similarity(org_embedding.cpu().detach().numpy(), test_embedding.cpu().detach().numpy())\n",
    "                similarities.append(cosine_sim[0][0])\n",
    "            Max_sim.append(max(similarities))\n",
    "            max_similarity_index = np.argmax(similarities)\n",
    "\n",
    "            predict_label.append(label_org[max_similarity_index])\n",
    "\n",
    "        accuracy = accuracy_score(predict_label, label_test)\n",
    "\n",
    "\n",
    "        \n",
    "        print(f'----Accuracy: {accuracy:.4f}')\n",
    "        print()\n",
    "\n",
    "        return accuracy\n",
    "\n",
    "preprocess = A.Compose([\n",
    "        A.Resize(224, 224),\n",
    "        A.Normalize(\n",
    "                mean=[0.485, 0.456, 0.406], \n",
    "                std=[0.229, 0.224, 0.225], \n",
    "                max_pixel_value=255.0, \n",
    "                p=1.0\n",
    "            ),\n",
    "        ToTensorV2()], p=1.)"
   ]
  },
  {
   "cell_type": "code",
   "execution_count": 15,
   "id": "4587d2e2",
   "metadata": {
    "execution": {
     "iopub.execute_input": "2025-06-23T21:13:03.454455Z",
     "iopub.status.busy": "2025-06-23T21:13:03.454231Z",
     "iopub.status.idle": "2025-06-24T04:35:22.508607Z",
     "shell.execute_reply": "2025-06-24T04:35:22.507749Z"
    },
    "papermill": {
     "duration": 26539.106496,
     "end_time": "2025-06-24T04:35:22.539346",
     "exception": false,
     "start_time": "2025-06-23T21:13:03.432850",
     "status": "completed"
    },
    "tags": []
   },
   "outputs": [
    {
     "name": "stderr",
     "output_type": "stream",
     "text": [
      "Epochs:   0%|          | 0/100 [00:00<?, ?it/s]/usr/local/lib/python3.11/dist-packages/torch/optim/lr_scheduler.py:227: UserWarning: Detected call of `lr_scheduler.step()` before `optimizer.step()`. In PyTorch 1.1.0 and later, you should call them in the opposite order: `optimizer.step()` before `lr_scheduler.step()`.  Failure to do this will result in PyTorch skipping the first value of the learning rate schedule. See more details at https://pytorch.org/docs/stable/optim.html#how-to-adjust-learning-rate\n",
      "  warnings.warn(\n",
      "Epochs:   1%|          | 1/100 [06:08<10:07:32, 368.20s/it]"
     ]
    },
    {
     "name": "stdout",
     "output_type": "stream",
     "text": [
      "Epoch: 1/100 - Loss: 35.2915 - Accuracy: None\n"
     ]
    },
    {
     "name": "stderr",
     "output_type": "stream",
     "text": [
      "Epochs:   2%|▏         | 2/100 [10:53<8:41:56, 319.56s/it] "
     ]
    },
    {
     "name": "stdout",
     "output_type": "stream",
     "text": [
      "Epoch: 2/100 - Loss: 28.9675 - Accuracy: None\n"
     ]
    },
    {
     "name": "stderr",
     "output_type": "stream",
     "text": [
      "Epochs:   3%|▎         | 3/100 [15:15<7:53:41, 293.01s/it]"
     ]
    },
    {
     "name": "stdout",
     "output_type": "stream",
     "text": [
      "Epoch: 3/100 - Loss: 23.2974 - Accuracy: None\n"
     ]
    },
    {
     "name": "stderr",
     "output_type": "stream",
     "text": [
      "Epochs:   4%|▍         | 4/100 [19:35<7:28:05, 280.06s/it]"
     ]
    },
    {
     "name": "stdout",
     "output_type": "stream",
     "text": [
      "Epoch: 4/100 - Loss: 19.2138 - Accuracy: None\n"
     ]
    },
    {
     "name": "stderr",
     "output_type": "stream",
     "text": [
      "Epochs:   5%|▌         | 5/100 [23:56<7:12:24, 273.10s/it]"
     ]
    },
    {
     "name": "stdout",
     "output_type": "stream",
     "text": [
      "Epoch: 5/100 - Loss: 16.3192 - Accuracy: None\n"
     ]
    },
    {
     "name": "stderr",
     "output_type": "stream",
     "text": [
      "Epochs:   6%|▌         | 6/100 [28:16<7:01:07, 268.80s/it]"
     ]
    },
    {
     "name": "stdout",
     "output_type": "stream",
     "text": [
      "Epoch: 6/100 - Loss: 14.1233 - Accuracy: None\n"
     ]
    },
    {
     "name": "stderr",
     "output_type": "stream",
     "text": [
      "Epochs:   7%|▋         | 7/100 [32:37<6:52:45, 266.29s/it]"
     ]
    },
    {
     "name": "stdout",
     "output_type": "stream",
     "text": [
      "Epoch: 7/100 - Loss: 12.3896 - Accuracy: None\n"
     ]
    },
    {
     "name": "stderr",
     "output_type": "stream",
     "text": [
      "Epochs:   8%|▊         | 8/100 [36:50<6:41:57, 262.15s/it]"
     ]
    },
    {
     "name": "stdout",
     "output_type": "stream",
     "text": [
      "Epoch: 8/100 - Loss: 11.0296 - Accuracy: None\n"
     ]
    },
    {
     "name": "stderr",
     "output_type": "stream",
     "text": [
      "Epochs:   9%|▉         | 9/100 [41:08<6:35:31, 260.78s/it]"
     ]
    },
    {
     "name": "stdout",
     "output_type": "stream",
     "text": [
      "Epoch: 9/100 - Loss: 9.8949 - Accuracy: None\n"
     ]
    },
    {
     "name": "stderr",
     "output_type": "stream",
     "text": [
      "Epochs:  10%|█         | 10/100 [45:45<6:38:42, 265.80s/it]"
     ]
    },
    {
     "name": "stdout",
     "output_type": "stream",
     "text": [
      "----Accuracy: 0.7694\n",
      "\n",
      "Epoch: 10/100 - Loss: 8.9588 - Accuracy: 0.7693522906793049\n"
     ]
    },
    {
     "name": "stderr",
     "output_type": "stream",
     "text": [
      "Epochs:  11%|█         | 11/100 [50:01<6:29:52, 262.83s/it]"
     ]
    },
    {
     "name": "stdout",
     "output_type": "stream",
     "text": [
      "Epoch: 11/100 - Loss: 8.2193 - Accuracy: None\n"
     ]
    },
    {
     "name": "stderr",
     "output_type": "stream",
     "text": [
      "Epochs:  12%|█▏        | 12/100 [54:18<6:22:52, 261.06s/it]"
     ]
    },
    {
     "name": "stdout",
     "output_type": "stream",
     "text": [
      "Epoch: 12/100 - Loss: 7.5177 - Accuracy: None\n"
     ]
    },
    {
     "name": "stderr",
     "output_type": "stream",
     "text": [
      "Epochs:  13%|█▎        | 13/100 [58:52<6:23:51, 264.73s/it]"
     ]
    },
    {
     "name": "stdout",
     "output_type": "stream",
     "text": [
      "Epoch: 13/100 - Loss: 6.9612 - Accuracy: None\n"
     ]
    },
    {
     "name": "stderr",
     "output_type": "stream",
     "text": [
      "Epochs:  14%|█▍        | 14/100 [1:03:10<6:16:54, 262.97s/it]"
     ]
    },
    {
     "name": "stdout",
     "output_type": "stream",
     "text": [
      "Epoch: 14/100 - Loss: 6.4374 - Accuracy: None\n"
     ]
    },
    {
     "name": "stderr",
     "output_type": "stream",
     "text": [
      "Epochs:  15%|█▌        | 15/100 [1:07:30<6:11:07, 261.97s/it]"
     ]
    },
    {
     "name": "stdout",
     "output_type": "stream",
     "text": [
      "Epoch: 15/100 - Loss: 5.9903 - Accuracy: None\n"
     ]
    },
    {
     "name": "stderr",
     "output_type": "stream",
     "text": [
      "Epochs:  16%|█▌        | 16/100 [1:11:48<6:04:58, 260.70s/it]"
     ]
    },
    {
     "name": "stdout",
     "output_type": "stream",
     "text": [
      "Epoch: 16/100 - Loss: 5.6218 - Accuracy: None\n"
     ]
    },
    {
     "name": "stderr",
     "output_type": "stream",
     "text": [
      "Epochs:  17%|█▋        | 17/100 [1:16:06<5:59:25, 259.82s/it]"
     ]
    },
    {
     "name": "stdout",
     "output_type": "stream",
     "text": [
      "Epoch: 17/100 - Loss: 5.2284 - Accuracy: None\n"
     ]
    },
    {
     "name": "stderr",
     "output_type": "stream",
     "text": [
      "Epochs:  18%|█▊        | 18/100 [1:20:22<5:53:48, 258.88s/it]"
     ]
    },
    {
     "name": "stdout",
     "output_type": "stream",
     "text": [
      "Epoch: 18/100 - Loss: 4.8925 - Accuracy: None\n"
     ]
    },
    {
     "name": "stderr",
     "output_type": "stream",
     "text": [
      "Epochs:  19%|█▉        | 19/100 [1:24:41<5:49:32, 258.92s/it]"
     ]
    },
    {
     "name": "stdout",
     "output_type": "stream",
     "text": [
      "Epoch: 19/100 - Loss: 4.6133 - Accuracy: None\n"
     ]
    },
    {
     "name": "stderr",
     "output_type": "stream",
     "text": [
      "Epochs:  20%|██        | 20/100 [1:29:15<5:50:58, 263.23s/it]"
     ]
    },
    {
     "name": "stdout",
     "output_type": "stream",
     "text": [
      "----Accuracy: 0.7773\n",
      "\n",
      "Epoch: 20/100 - Loss: 4.3717 - Accuracy: 0.7772511848341233\n"
     ]
    },
    {
     "name": "stderr",
     "output_type": "stream",
     "text": [
      "Epochs:  21%|██        | 21/100 [1:33:41<5:47:54, 264.24s/it]"
     ]
    },
    {
     "name": "stdout",
     "output_type": "stream",
     "text": [
      "Epoch: 21/100 - Loss: 4.1356 - Accuracy: None\n"
     ]
    },
    {
     "name": "stderr",
     "output_type": "stream",
     "text": [
      "Epochs:  22%|██▏       | 22/100 [1:38:17<5:48:10, 267.82s/it]"
     ]
    },
    {
     "name": "stdout",
     "output_type": "stream",
     "text": [
      "Epoch: 22/100 - Loss: 3.9109 - Accuracy: None\n"
     ]
    },
    {
     "name": "stderr",
     "output_type": "stream",
     "text": [
      "Epochs:  23%|██▎       | 23/100 [1:42:51<5:46:06, 269.70s/it]"
     ]
    },
    {
     "name": "stdout",
     "output_type": "stream",
     "text": [
      "Epoch: 23/100 - Loss: 3.6928 - Accuracy: None\n"
     ]
    },
    {
     "name": "stderr",
     "output_type": "stream",
     "text": [
      "Epochs:  24%|██▍       | 24/100 [1:47:09<5:37:08, 266.17s/it]"
     ]
    },
    {
     "name": "stdout",
     "output_type": "stream",
     "text": [
      "Epoch: 24/100 - Loss: 3.5101 - Accuracy: None\n"
     ]
    },
    {
     "name": "stderr",
     "output_type": "stream",
     "text": [
      "Epochs:  25%|██▌       | 25/100 [1:51:24<5:28:29, 262.80s/it]"
     ]
    },
    {
     "name": "stdout",
     "output_type": "stream",
     "text": [
      "Epoch: 25/100 - Loss: 3.3453 - Accuracy: None\n"
     ]
    },
    {
     "name": "stderr",
     "output_type": "stream",
     "text": [
      "Epochs:  26%|██▌       | 26/100 [1:55:33<5:18:53, 258.56s/it]"
     ]
    },
    {
     "name": "stdout",
     "output_type": "stream",
     "text": [
      "Epoch: 26/100 - Loss: 3.1773 - Accuracy: None\n"
     ]
    },
    {
     "name": "stderr",
     "output_type": "stream",
     "text": [
      "Epochs:  27%|██▋       | 27/100 [1:59:52<5:14:48, 258.74s/it]"
     ]
    },
    {
     "name": "stdout",
     "output_type": "stream",
     "text": [
      "Epoch: 27/100 - Loss: 3.0238 - Accuracy: None\n"
     ]
    },
    {
     "name": "stderr",
     "output_type": "stream",
     "text": [
      "Epochs:  28%|██▊       | 28/100 [2:04:17<5:12:48, 260.67s/it]"
     ]
    },
    {
     "name": "stdout",
     "output_type": "stream",
     "text": [
      "Epoch: 28/100 - Loss: 2.8889 - Accuracy: None\n"
     ]
    },
    {
     "name": "stderr",
     "output_type": "stream",
     "text": [
      "Epochs:  29%|██▉       | 29/100 [2:08:34<5:06:55, 259.37s/it]"
     ]
    },
    {
     "name": "stdout",
     "output_type": "stream",
     "text": [
      "Epoch: 29/100 - Loss: 2.7517 - Accuracy: None\n"
     ]
    },
    {
     "name": "stderr",
     "output_type": "stream",
     "text": [
      "Epochs:  30%|███       | 30/100 [2:13:03<5:06:07, 262.39s/it]"
     ]
    },
    {
     "name": "stdout",
     "output_type": "stream",
     "text": [
      "----Accuracy: 0.7773\n",
      "\n",
      "Epoch: 30/100 - Loss: 2.6448 - Accuracy: 0.7772511848341233\n"
     ]
    },
    {
     "name": "stderr",
     "output_type": "stream",
     "text": [
      "Epochs:  31%|███       | 31/100 [2:17:16<4:58:29, 259.56s/it]"
     ]
    },
    {
     "name": "stdout",
     "output_type": "stream",
     "text": [
      "Epoch: 31/100 - Loss: 2.5393 - Accuracy: None\n"
     ]
    },
    {
     "name": "stderr",
     "output_type": "stream",
     "text": [
      "Epochs:  32%|███▏      | 32/100 [2:21:36<4:54:07, 259.53s/it]"
     ]
    },
    {
     "name": "stdout",
     "output_type": "stream",
     "text": [
      "Epoch: 32/100 - Loss: 2.4264 - Accuracy: None\n"
     ]
    },
    {
     "name": "stderr",
     "output_type": "stream",
     "text": [
      "Epochs:  33%|███▎      | 33/100 [2:26:08<4:54:03, 263.34s/it]"
     ]
    },
    {
     "name": "stdout",
     "output_type": "stream",
     "text": [
      "Epoch: 33/100 - Loss: 2.3076 - Accuracy: None\n"
     ]
    },
    {
     "name": "stderr",
     "output_type": "stream",
     "text": [
      "Epochs:  34%|███▍      | 34/100 [2:30:38<4:51:49, 265.30s/it]"
     ]
    },
    {
     "name": "stdout",
     "output_type": "stream",
     "text": [
      "Epoch: 34/100 - Loss: 2.2237 - Accuracy: None\n"
     ]
    },
    {
     "name": "stderr",
     "output_type": "stream",
     "text": [
      "Epochs:  35%|███▌      | 35/100 [2:35:03<4:47:21, 265.26s/it]"
     ]
    },
    {
     "name": "stdout",
     "output_type": "stream",
     "text": [
      "Epoch: 35/100 - Loss: 2.1341 - Accuracy: None\n"
     ]
    },
    {
     "name": "stderr",
     "output_type": "stream",
     "text": [
      "Epochs:  36%|███▌      | 36/100 [2:39:14<4:38:31, 261.12s/it]"
     ]
    },
    {
     "name": "stdout",
     "output_type": "stream",
     "text": [
      "Epoch: 36/100 - Loss: 2.0459 - Accuracy: None\n"
     ]
    },
    {
     "name": "stderr",
     "output_type": "stream",
     "text": [
      "Epochs:  37%|███▋      | 37/100 [2:43:32<4:33:03, 260.05s/it]"
     ]
    },
    {
     "name": "stdout",
     "output_type": "stream",
     "text": [
      "Epoch: 37/100 - Loss: 1.9427 - Accuracy: None\n"
     ]
    },
    {
     "name": "stderr",
     "output_type": "stream",
     "text": [
      "Epochs:  38%|███▊      | 38/100 [2:47:48<4:27:37, 258.99s/it]"
     ]
    },
    {
     "name": "stdout",
     "output_type": "stream",
     "text": [
      "Epoch: 38/100 - Loss: 1.8953 - Accuracy: None\n"
     ]
    },
    {
     "name": "stderr",
     "output_type": "stream",
     "text": [
      "Epochs:  39%|███▉      | 39/100 [2:52:07<4:23:07, 258.81s/it]"
     ]
    },
    {
     "name": "stdout",
     "output_type": "stream",
     "text": [
      "Epoch: 39/100 - Loss: 1.8309 - Accuracy: None\n"
     ]
    },
    {
     "name": "stderr",
     "output_type": "stream",
     "text": [
      "Epochs:  40%|████      | 40/100 [2:56:37<4:22:22, 262.37s/it]"
     ]
    },
    {
     "name": "stdout",
     "output_type": "stream",
     "text": [
      "----Accuracy: 0.7630\n",
      "\n",
      "Epoch: 40/100 - Loss: 1.7534 - Accuracy: 0.7630331753554502\n"
     ]
    },
    {
     "name": "stderr",
     "output_type": "stream",
     "text": [
      "Epochs:  41%|████      | 41/100 [3:00:56<4:16:45, 261.11s/it]"
     ]
    },
    {
     "name": "stdout",
     "output_type": "stream",
     "text": [
      "Epoch: 41/100 - Loss: 1.6814 - Accuracy: None\n"
     ]
    },
    {
     "name": "stderr",
     "output_type": "stream",
     "text": [
      "Epochs:  42%|████▏     | 42/100 [3:05:16<4:12:19, 261.02s/it]"
     ]
    },
    {
     "name": "stdout",
     "output_type": "stream",
     "text": [
      "Epoch: 42/100 - Loss: 1.6217 - Accuracy: None\n"
     ]
    },
    {
     "name": "stderr",
     "output_type": "stream",
     "text": [
      "Epochs:  43%|████▎     | 43/100 [3:09:35<4:07:25, 260.45s/it]"
     ]
    },
    {
     "name": "stdout",
     "output_type": "stream",
     "text": [
      "Epoch: 43/100 - Loss: 1.5578 - Accuracy: None\n"
     ]
    },
    {
     "name": "stderr",
     "output_type": "stream",
     "text": [
      "Epochs:  44%|████▍     | 44/100 [3:13:50<4:01:20, 258.57s/it]"
     ]
    },
    {
     "name": "stdout",
     "output_type": "stream",
     "text": [
      "Epoch: 44/100 - Loss: 1.4965 - Accuracy: None\n"
     ]
    },
    {
     "name": "stderr",
     "output_type": "stream",
     "text": [
      "Epochs:  45%|████▌     | 45/100 [3:18:08<3:56:50, 258.37s/it]"
     ]
    },
    {
     "name": "stdout",
     "output_type": "stream",
     "text": [
      "Epoch: 45/100 - Loss: 1.4457 - Accuracy: None\n"
     ]
    },
    {
     "name": "stderr",
     "output_type": "stream",
     "text": [
      "Epochs:  46%|████▌     | 46/100 [3:22:26<3:52:31, 258.36s/it]"
     ]
    },
    {
     "name": "stdout",
     "output_type": "stream",
     "text": [
      "Epoch: 46/100 - Loss: 1.4051 - Accuracy: None\n"
     ]
    },
    {
     "name": "stderr",
     "output_type": "stream",
     "text": [
      "Epochs:  47%|████▋     | 47/100 [3:26:45<3:48:30, 258.70s/it]"
     ]
    },
    {
     "name": "stdout",
     "output_type": "stream",
     "text": [
      "Epoch: 47/100 - Loss: 1.3407 - Accuracy: None\n"
     ]
    },
    {
     "name": "stderr",
     "output_type": "stream",
     "text": [
      "Epochs:  48%|████▊     | 48/100 [3:31:04<3:44:14, 258.74s/it]"
     ]
    },
    {
     "name": "stdout",
     "output_type": "stream",
     "text": [
      "Epoch: 48/100 - Loss: 1.3018 - Accuracy: None\n"
     ]
    },
    {
     "name": "stderr",
     "output_type": "stream",
     "text": [
      "Epochs:  49%|████▉     | 49/100 [3:35:29<3:41:35, 260.69s/it]"
     ]
    },
    {
     "name": "stdout",
     "output_type": "stream",
     "text": [
      "Epoch: 49/100 - Loss: 1.2574 - Accuracy: None\n"
     ]
    },
    {
     "name": "stderr",
     "output_type": "stream",
     "text": [
      "Epochs:  50%|█████     | 50/100 [3:40:08<3:41:35, 265.92s/it]"
     ]
    },
    {
     "name": "stdout",
     "output_type": "stream",
     "text": [
      "----Accuracy: 0.7488\n",
      "\n",
      "Epoch: 50/100 - Loss: 1.2152 - Accuracy: 0.7488151658767772\n"
     ]
    },
    {
     "name": "stderr",
     "output_type": "stream",
     "text": [
      "Epochs:  51%|█████     | 51/100 [3:44:31<3:36:26, 265.04s/it]"
     ]
    },
    {
     "name": "stdout",
     "output_type": "stream",
     "text": [
      "Epoch: 51/100 - Loss: 1.1920 - Accuracy: None\n"
     ]
    },
    {
     "name": "stderr",
     "output_type": "stream",
     "text": [
      "Epochs:  52%|█████▏    | 52/100 [3:48:55<3:31:47, 264.73s/it]"
     ]
    },
    {
     "name": "stdout",
     "output_type": "stream",
     "text": [
      "Epoch: 52/100 - Loss: 1.1414 - Accuracy: None\n"
     ]
    },
    {
     "name": "stderr",
     "output_type": "stream",
     "text": [
      "Epochs:  53%|█████▎    | 53/100 [3:53:14<3:26:02, 263.03s/it]"
     ]
    },
    {
     "name": "stdout",
     "output_type": "stream",
     "text": [
      "Epoch: 53/100 - Loss: 1.1006 - Accuracy: None\n"
     ]
    },
    {
     "name": "stderr",
     "output_type": "stream",
     "text": [
      "Epochs:  54%|█████▍    | 54/100 [3:57:36<3:21:31, 262.86s/it]"
     ]
    },
    {
     "name": "stdout",
     "output_type": "stream",
     "text": [
      "Epoch: 54/100 - Loss: 1.0684 - Accuracy: None\n"
     ]
    },
    {
     "name": "stderr",
     "output_type": "stream",
     "text": [
      "Epochs:  55%|█████▌    | 55/100 [4:02:00<3:17:26, 263.26s/it]"
     ]
    },
    {
     "name": "stdout",
     "output_type": "stream",
     "text": [
      "Epoch: 55/100 - Loss: 1.0267 - Accuracy: None\n"
     ]
    },
    {
     "name": "stderr",
     "output_type": "stream",
     "text": [
      "Epochs:  56%|█████▌    | 56/100 [4:06:23<3:12:55, 263.09s/it]"
     ]
    },
    {
     "name": "stdout",
     "output_type": "stream",
     "text": [
      "Epoch: 56/100 - Loss: 0.9784 - Accuracy: None\n"
     ]
    },
    {
     "name": "stderr",
     "output_type": "stream",
     "text": [
      "Epochs:  57%|█████▋    | 57/100 [4:10:50<3:09:17, 264.13s/it]"
     ]
    },
    {
     "name": "stdout",
     "output_type": "stream",
     "text": [
      "Epoch: 57/100 - Loss: 0.9631 - Accuracy: None\n"
     ]
    },
    {
     "name": "stderr",
     "output_type": "stream",
     "text": [
      "Epochs:  58%|█████▊    | 58/100 [4:15:14<3:05:03, 264.37s/it]"
     ]
    },
    {
     "name": "stdout",
     "output_type": "stream",
     "text": [
      "Epoch: 58/100 - Loss: 0.9341 - Accuracy: None\n"
     ]
    },
    {
     "name": "stderr",
     "output_type": "stream",
     "text": [
      "Epochs:  59%|█████▉    | 59/100 [4:19:40<3:00:51, 264.67s/it]"
     ]
    },
    {
     "name": "stdout",
     "output_type": "stream",
     "text": [
      "Epoch: 59/100 - Loss: 0.8953 - Accuracy: None\n"
     ]
    },
    {
     "name": "stderr",
     "output_type": "stream",
     "text": [
      "Epochs:  60%|██████    | 60/100 [4:24:18<2:59:05, 268.64s/it]"
     ]
    },
    {
     "name": "stdout",
     "output_type": "stream",
     "text": [
      "----Accuracy: 0.7409\n",
      "\n",
      "Epoch: 60/100 - Loss: 0.8678 - Accuracy: 0.740916271721959\n"
     ]
    },
    {
     "name": "stderr",
     "output_type": "stream",
     "text": [
      "Epochs:  61%|██████    | 61/100 [4:28:41<2:53:32, 266.99s/it]"
     ]
    },
    {
     "name": "stdout",
     "output_type": "stream",
     "text": [
      "Epoch: 61/100 - Loss: 0.8439 - Accuracy: None\n"
     ]
    },
    {
     "name": "stderr",
     "output_type": "stream",
     "text": [
      "Epochs:  62%|██████▏   | 62/100 [4:33:06<2:48:47, 266.51s/it]"
     ]
    },
    {
     "name": "stdout",
     "output_type": "stream",
     "text": [
      "Epoch: 62/100 - Loss: 0.8071 - Accuracy: None\n"
     ]
    },
    {
     "name": "stderr",
     "output_type": "stream",
     "text": [
      "Epochs:  63%|██████▎   | 63/100 [4:37:30<2:43:49, 265.66s/it]"
     ]
    },
    {
     "name": "stdout",
     "output_type": "stream",
     "text": [
      "Epoch: 63/100 - Loss: 0.7893 - Accuracy: None\n"
     ]
    },
    {
     "name": "stderr",
     "output_type": "stream",
     "text": [
      "Epochs:  64%|██████▍   | 64/100 [4:41:55<2:39:18, 265.50s/it]"
     ]
    },
    {
     "name": "stdout",
     "output_type": "stream",
     "text": [
      "Epoch: 64/100 - Loss: 0.7756 - Accuracy: None\n"
     ]
    },
    {
     "name": "stderr",
     "output_type": "stream",
     "text": [
      "Epochs:  65%|██████▌   | 65/100 [4:46:21<2:34:54, 265.55s/it]"
     ]
    },
    {
     "name": "stdout",
     "output_type": "stream",
     "text": [
      "Epoch: 65/100 - Loss: 0.7376 - Accuracy: None\n"
     ]
    },
    {
     "name": "stderr",
     "output_type": "stream",
     "text": [
      "Epochs:  66%|██████▌   | 66/100 [4:50:46<2:30:26, 265.49s/it]"
     ]
    },
    {
     "name": "stdout",
     "output_type": "stream",
     "text": [
      "Epoch: 66/100 - Loss: 0.7231 - Accuracy: None\n"
     ]
    },
    {
     "name": "stderr",
     "output_type": "stream",
     "text": [
      "Epochs:  67%|██████▋   | 67/100 [4:55:11<2:25:55, 265.30s/it]"
     ]
    },
    {
     "name": "stdout",
     "output_type": "stream",
     "text": [
      "Epoch: 67/100 - Loss: 0.6955 - Accuracy: None\n"
     ]
    },
    {
     "name": "stderr",
     "output_type": "stream",
     "text": [
      "Epochs:  68%|██████▊   | 68/100 [4:59:34<2:21:12, 264.75s/it]"
     ]
    },
    {
     "name": "stdout",
     "output_type": "stream",
     "text": [
      "Epoch: 68/100 - Loss: 0.6723 - Accuracy: None\n"
     ]
    },
    {
     "name": "stderr",
     "output_type": "stream",
     "text": [
      "Epochs:  69%|██████▉   | 69/100 [5:04:00<2:16:51, 264.88s/it]"
     ]
    },
    {
     "name": "stdout",
     "output_type": "stream",
     "text": [
      "Epoch: 69/100 - Loss: 0.6615 - Accuracy: None\n"
     ]
    },
    {
     "name": "stderr",
     "output_type": "stream",
     "text": [
      "Epochs:  70%|███████   | 70/100 [5:08:38<2:14:30, 269.02s/it]"
     ]
    },
    {
     "name": "stdout",
     "output_type": "stream",
     "text": [
      "----Accuracy: 0.7441\n",
      "\n",
      "Epoch: 70/100 - Loss: 0.6415 - Accuracy: 0.7440758293838863\n"
     ]
    },
    {
     "name": "stderr",
     "output_type": "stream",
     "text": [
      "Epochs:  71%|███████   | 71/100 [5:13:01<2:09:05, 267.07s/it]"
     ]
    },
    {
     "name": "stdout",
     "output_type": "stream",
     "text": [
      "Epoch: 71/100 - Loss: 0.6279 - Accuracy: None\n"
     ]
    },
    {
     "name": "stderr",
     "output_type": "stream",
     "text": [
      "Epochs:  72%|███████▏  | 72/100 [5:17:26<2:04:21, 266.49s/it]"
     ]
    },
    {
     "name": "stdout",
     "output_type": "stream",
     "text": [
      "Epoch: 72/100 - Loss: 0.5920 - Accuracy: None\n"
     ]
    },
    {
     "name": "stderr",
     "output_type": "stream",
     "text": [
      "Epochs:  73%|███████▎  | 73/100 [5:21:50<1:59:38, 265.87s/it]"
     ]
    },
    {
     "name": "stdout",
     "output_type": "stream",
     "text": [
      "Epoch: 73/100 - Loss: 0.5890 - Accuracy: None\n"
     ]
    },
    {
     "name": "stderr",
     "output_type": "stream",
     "text": [
      "Epochs:  74%|███████▍  | 74/100 [5:26:21<1:55:49, 267.29s/it]"
     ]
    },
    {
     "name": "stdout",
     "output_type": "stream",
     "text": [
      "Epoch: 74/100 - Loss: 0.5695 - Accuracy: None\n"
     ]
    },
    {
     "name": "stderr",
     "output_type": "stream",
     "text": [
      "Epochs:  75%|███████▌  | 75/100 [5:30:45<1:50:55, 266.23s/it]"
     ]
    },
    {
     "name": "stdout",
     "output_type": "stream",
     "text": [
      "Epoch: 75/100 - Loss: 0.5492 - Accuracy: None\n"
     ]
    },
    {
     "name": "stderr",
     "output_type": "stream",
     "text": [
      "Epochs:  76%|███████▌  | 76/100 [5:35:12<1:46:34, 266.44s/it]"
     ]
    },
    {
     "name": "stdout",
     "output_type": "stream",
     "text": [
      "Epoch: 76/100 - Loss: 0.5269 - Accuracy: None\n"
     ]
    },
    {
     "name": "stderr",
     "output_type": "stream",
     "text": [
      "Epochs:  77%|███████▋  | 77/100 [5:39:37<1:42:01, 266.16s/it]"
     ]
    },
    {
     "name": "stdout",
     "output_type": "stream",
     "text": [
      "Epoch: 77/100 - Loss: 0.5219 - Accuracy: None\n"
     ]
    },
    {
     "name": "stderr",
     "output_type": "stream",
     "text": [
      "Epochs:  78%|███████▊  | 78/100 [5:43:58<1:36:59, 264.51s/it]"
     ]
    },
    {
     "name": "stdout",
     "output_type": "stream",
     "text": [
      "Epoch: 78/100 - Loss: 0.5089 - Accuracy: None\n"
     ]
    },
    {
     "name": "stderr",
     "output_type": "stream",
     "text": [
      "Epochs:  79%|███████▉  | 79/100 [5:48:11<1:31:26, 261.25s/it]"
     ]
    },
    {
     "name": "stdout",
     "output_type": "stream",
     "text": [
      "Epoch: 79/100 - Loss: 0.4927 - Accuracy: None\n"
     ]
    },
    {
     "name": "stderr",
     "output_type": "stream",
     "text": [
      "Epochs:  80%|████████  | 80/100 [5:52:40<1:27:49, 263.48s/it]"
     ]
    },
    {
     "name": "stdout",
     "output_type": "stream",
     "text": [
      "----Accuracy: 0.7188\n",
      "\n",
      "Epoch: 80/100 - Loss: 0.4835 - Accuracy: 0.7187993680884676\n"
     ]
    },
    {
     "name": "stderr",
     "output_type": "stream",
     "text": [
      "Epochs:  81%|████████  | 81/100 [5:57:09<1:23:56, 265.07s/it]"
     ]
    },
    {
     "name": "stdout",
     "output_type": "stream",
     "text": [
      "Epoch: 81/100 - Loss: 0.4630 - Accuracy: None\n"
     ]
    },
    {
     "name": "stderr",
     "output_type": "stream",
     "text": [
      "Epochs:  82%|████████▏ | 82/100 [6:01:51<1:21:00, 270.05s/it]"
     ]
    },
    {
     "name": "stdout",
     "output_type": "stream",
     "text": [
      "Epoch: 82/100 - Loss: 0.4452 - Accuracy: None\n"
     ]
    },
    {
     "name": "stderr",
     "output_type": "stream",
     "text": [
      "Epochs:  83%|████████▎ | 83/100 [6:06:34<1:17:37, 273.96s/it]"
     ]
    },
    {
     "name": "stdout",
     "output_type": "stream",
     "text": [
      "Epoch: 83/100 - Loss: 0.4413 - Accuracy: None\n"
     ]
    },
    {
     "name": "stderr",
     "output_type": "stream",
     "text": [
      "Epochs:  84%|████████▍ | 84/100 [6:10:58<1:12:18, 271.13s/it]"
     ]
    },
    {
     "name": "stdout",
     "output_type": "stream",
     "text": [
      "Epoch: 84/100 - Loss: 0.4182 - Accuracy: None\n"
     ]
    },
    {
     "name": "stderr",
     "output_type": "stream",
     "text": [
      "Epochs:  85%|████████▌ | 85/100 [6:15:20<1:07:07, 268.47s/it]"
     ]
    },
    {
     "name": "stdout",
     "output_type": "stream",
     "text": [
      "Epoch: 85/100 - Loss: 0.4098 - Accuracy: None\n"
     ]
    },
    {
     "name": "stderr",
     "output_type": "stream",
     "text": [
      "Epochs:  86%|████████▌ | 86/100 [6:19:42<1:02:11, 266.53s/it]"
     ]
    },
    {
     "name": "stdout",
     "output_type": "stream",
     "text": [
      "Epoch: 86/100 - Loss: 0.4084 - Accuracy: None\n"
     ]
    },
    {
     "name": "stderr",
     "output_type": "stream",
     "text": [
      "Epochs:  87%|████████▋ | 87/100 [6:24:03<57:20, 264.67s/it]  "
     ]
    },
    {
     "name": "stdout",
     "output_type": "stream",
     "text": [
      "Epoch: 87/100 - Loss: 0.4083 - Accuracy: None\n"
     ]
    },
    {
     "name": "stderr",
     "output_type": "stream",
     "text": [
      "Epochs:  88%|████████▊ | 88/100 [6:28:24<52:43, 263.59s/it]"
     ]
    },
    {
     "name": "stdout",
     "output_type": "stream",
     "text": [
      "Epoch: 88/100 - Loss: 0.3776 - Accuracy: None\n"
     ]
    },
    {
     "name": "stderr",
     "output_type": "stream",
     "text": [
      "Epochs:  89%|████████▉ | 89/100 [6:33:00<49:00, 267.30s/it]"
     ]
    },
    {
     "name": "stdout",
     "output_type": "stream",
     "text": [
      "Epoch: 89/100 - Loss: 0.3721 - Accuracy: None\n"
     ]
    },
    {
     "name": "stderr",
     "output_type": "stream",
     "text": [
      "Epochs:  90%|█████████ | 90/100 [6:37:38<45:06, 270.68s/it]"
     ]
    },
    {
     "name": "stdout",
     "output_type": "stream",
     "text": [
      "----Accuracy: 0.7141\n",
      "\n",
      "Epoch: 90/100 - Loss: 0.3601 - Accuracy: 0.7140600315955766\n"
     ]
    },
    {
     "name": "stderr",
     "output_type": "stream",
     "text": [
      "Epochs:  91%|█████████ | 91/100 [6:42:08<40:32, 270.23s/it]"
     ]
    },
    {
     "name": "stdout",
     "output_type": "stream",
     "text": [
      "Epoch: 91/100 - Loss: 0.3599 - Accuracy: None\n"
     ]
    },
    {
     "name": "stderr",
     "output_type": "stream",
     "text": [
      "Epochs:  92%|█████████▏| 92/100 [6:46:34<35:51, 268.94s/it]"
     ]
    },
    {
     "name": "stdout",
     "output_type": "stream",
     "text": [
      "Epoch: 92/100 - Loss: 0.3362 - Accuracy: None\n"
     ]
    },
    {
     "name": "stderr",
     "output_type": "stream",
     "text": [
      "Epochs:  93%|█████████▎| 93/100 [6:51:00<31:16, 268.06s/it]"
     ]
    },
    {
     "name": "stdout",
     "output_type": "stream",
     "text": [
      "Epoch: 93/100 - Loss: 0.3313 - Accuracy: None\n"
     ]
    },
    {
     "name": "stderr",
     "output_type": "stream",
     "text": [
      "Epochs:  94%|█████████▍| 94/100 [6:55:24<26:41, 266.93s/it]"
     ]
    },
    {
     "name": "stdout",
     "output_type": "stream",
     "text": [
      "Epoch: 94/100 - Loss: 0.3339 - Accuracy: None\n"
     ]
    },
    {
     "name": "stderr",
     "output_type": "stream",
     "text": [
      "Epochs:  95%|█████████▌| 95/100 [6:59:51<22:15, 267.03s/it]"
     ]
    },
    {
     "name": "stdout",
     "output_type": "stream",
     "text": [
      "Epoch: 95/100 - Loss: 0.3189 - Accuracy: None\n"
     ]
    },
    {
     "name": "stderr",
     "output_type": "stream",
     "text": [
      "Epochs:  96%|█████████▌| 96/100 [7:04:15<17:44, 266.19s/it]"
     ]
    },
    {
     "name": "stdout",
     "output_type": "stream",
     "text": [
      "Epoch: 96/100 - Loss: 0.3076 - Accuracy: None\n"
     ]
    },
    {
     "name": "stderr",
     "output_type": "stream",
     "text": [
      "Epochs:  97%|█████████▋| 97/100 [7:08:43<13:19, 266.58s/it]"
     ]
    },
    {
     "name": "stdout",
     "output_type": "stream",
     "text": [
      "Epoch: 97/100 - Loss: 0.3192 - Accuracy: None\n"
     ]
    },
    {
     "name": "stderr",
     "output_type": "stream",
     "text": [
      "Epochs:  98%|█████████▊| 98/100 [7:13:12<08:54, 267.39s/it]"
     ]
    },
    {
     "name": "stdout",
     "output_type": "stream",
     "text": [
      "Epoch: 98/100 - Loss: 0.3027 - Accuracy: None\n"
     ]
    },
    {
     "name": "stderr",
     "output_type": "stream",
     "text": [
      "Epochs:  99%|█████████▉| 99/100 [7:17:38<04:26, 266.99s/it]"
     ]
    },
    {
     "name": "stdout",
     "output_type": "stream",
     "text": [
      "Epoch: 99/100 - Loss: 0.2817 - Accuracy: None\n"
     ]
    },
    {
     "name": "stderr",
     "output_type": "stream",
     "text": [
      "Epochs: 100%|██████████| 100/100 [7:22:19<00:00, 265.39s/it]"
     ]
    },
    {
     "name": "stdout",
     "output_type": "stream",
     "text": [
      "----Accuracy: 0.7062\n",
      "\n",
      "Epoch: 100/100 - Loss: 0.2907 - Accuracy: 0.7061611374407583\n"
     ]
    },
    {
     "name": "stderr",
     "output_type": "stream",
     "text": [
      "\n"
     ]
    }
   ],
   "source": [
    "import csv\n",
    "import os\n",
    "\n",
    "epochs = 100\n",
    "model.train()\n",
    "scaler = torch.amp.GradScaler()\n",
    "\n",
    "ACC = 0\n",
    "log_file = \"train_ArcFace_Resnet50_log.csv\"\n",
    "model_save_dir = \"saved_ArcFace_Resnet50_models\"\n",
    "os.makedirs(model_save_dir, exist_ok=True)\n",
    "\n",
    "# Khởi tạo file CSV nếu chưa có\n",
    "if not os.path.exists(log_file):\n",
    "    with open(log_file, mode='w', newline='') as f:\n",
    "        writer = csv.writer(f)\n",
    "        writer.writerow(['Epoch', 'Loss', 'Accuracy'])\n",
    "\n",
    "for epoch in tqdm(range(epochs), desc=\"Epochs\"):\n",
    "    running_loss = []\n",
    "    for step, (anchor_img, label) in enumerate(train_loader):\n",
    "        anchor_img = anchor_img.to(device).float()\n",
    "        label = label.to(device).long()  # đảm bảo đúng dtype\n",
    "\n",
    "        with torch.amp.autocast('cuda', enabled=True):\n",
    "            outputs = model(anchor_img)\n",
    "            logits = arc_margin(outputs, label)\n",
    "            loss = focal_loss(logits, label)\n",
    "\n",
    "        scaler.scale(loss).backward()\n",
    "\n",
    "        if (step + 1) % 4 == 0:\n",
    "            scaler.step(optimizer)\n",
    "            scaler.update()\n",
    "            optimizer.zero_grad()\n",
    "            scheduler.step()\n",
    "\n",
    "        running_loss.append(loss.cpu().detach().numpy())\n",
    "\n",
    "    avg_loss = np.mean(running_loss)\n",
    "\n",
    "    # Tính accuracy mỗi 10 epoch\n",
    "    if (epoch + 1) % 10 == 0:\n",
    "        test_path = \"/kaggle/input/logo-verify-test/logo_verify_test\"  # đường dẫn test\n",
    "        accuracy = TEST(test_path, model, preprocess, key=\"000000\")\n",
    "        model.train()  # quay lại train mode\n",
    "\n",
    "        # Lưu model nếu tốt nhất\n",
    "        if accuracy >= ACC:\n",
    "            best_path = f\"/kaggle/working/model_best{accuracy*1000:.0f}.pth\"\n",
    "            torch.save(model, best_path)\n",
    "            ACC = accuracy\n",
    "    else:\n",
    "        accuracy = None  # không test\n",
    "\n",
    "    # Ghi log CSV\n",
    "    with open(log_file, mode='a', newline='') as f:\n",
    "        writer = csv.writer(f)\n",
    "        writer.writerow([epoch + 1, avg_loss, accuracy if accuracy is not None else \"\"])\n",
    "\n",
    "    # Lưu model mỗi 5 epoch\n",
    "    if (epoch + 1) % 10 == 0:\n",
    "        torch.save(model, f\"{model_save_dir}/model_epoch_{epoch + 1}.pth\")\n",
    "\n",
    "    print(f\"Epoch: {epoch+1}/{epochs} - Loss: {avg_loss:.4f} - Accuracy: {accuracy}\")\n"
   ]
  },
  {
   "cell_type": "code",
   "execution_count": null,
   "id": "9ca0f085",
   "metadata": {
    "papermill": {
     "duration": 0.028034,
     "end_time": "2025-06-24T04:35:22.596127",
     "exception": false,
     "start_time": "2025-06-24T04:35:22.568093",
     "status": "completed"
    },
    "tags": []
   },
   "outputs": [],
   "source": []
  }
 ],
 "metadata": {
  "kaggle": {
   "accelerator": "nvidiaTeslaT4",
   "dataSources": [
    {
     "datasetId": 5888595,
     "sourceId": 9642830,
     "sourceType": "datasetVersion"
    },
    {
     "datasetId": 7719970,
     "sourceId": 12252246,
     "sourceType": "datasetVersion"
    }
   ],
   "dockerImageVersionId": 31041,
   "isGpuEnabled": true,
   "isInternetEnabled": true,
   "language": "python",
   "sourceType": "notebook"
  },
  "kernelspec": {
   "display_name": "Python 3",
   "language": "python",
   "name": "python3"
  },
  "language_info": {
   "codemirror_mode": {
    "name": "ipython",
    "version": 3
   },
   "file_extension": ".py",
   "mimetype": "text/x-python",
   "name": "python",
   "nbconvert_exporter": "python",
   "pygments_lexer": "ipython3",
   "version": "3.11.11"
  },
  "papermill": {
   "default_parameters": {},
   "duration": 26674.537747,
   "end_time": "2025-06-24T04:35:25.697848",
   "environment_variables": {},
   "exception": null,
   "input_path": "__notebook__.ipynb",
   "output_path": "__notebook__.ipynb",
   "parameters": {},
   "start_time": "2025-06-23T21:10:51.160101",
   "version": "2.6.0"
  }
 },
 "nbformat": 4,
 "nbformat_minor": 5
}
